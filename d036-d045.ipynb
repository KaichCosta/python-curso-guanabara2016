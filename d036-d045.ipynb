{
 "cells": [
  {
   "cell_type": "markdown",
   "metadata": {},
   "source": [
    "DESAFIO 036"
   ]
  },
  {
   "cell_type": "code",
   "execution_count": 6,
   "metadata": {},
   "outputs": [
    {
     "name": "stdout",
     "output_type": "stream",
     "text": [
      "============================================\n",
      "BEM VINDO AO BANCO DE FINANCIAMENTO DE CASAS\n",
      "============================================\n",
      "SEU EMPRÉSTIMO PODE SER REALIZADO\n",
      "VOCÊ DEVE PAGAR 409.93 POR MÊS AO BANCO\n"
     ]
    }
   ],
   "source": [
    "print('============================================')\n",
    "print('BEM VINDO AO BANCO DE FINANCIAMENTO DE CASAS')\n",
    "print('============================================')\n",
    "\n",
    "v=int(input('Qual o valor da casa que você quer comprar? = '))\n",
    "s=int(input('Qual o seu salário? = '))\n",
    "t=int(input('Quanto anos você quer pagar pelo empréstimo? = '))\n",
    "\n",
    "meses= t * 12\n",
    "prest= v / meses\n",
    "trinta= s * 0.3\n",
    "\n",
    "if prest <= trinta:\n",
    "    print('SEU EMPRÉSTIMO PODE SER REALIZADO')\n",
    "    print('VOCÊ DEVE PAGAR {:.2f} POR MÊS AO BANCO'.format(prest))\n",
    "else: \n",
    "    print('SEU EMPRÉSTIMO NÃO PODE SER REALIZADO')\n",
    "\n"
   ]
  },
  {
   "cell_type": "markdown",
   "metadata": {},
   "source": [
    "DESAFIO 037"
   ]
  },
  {
   "cell_type": "code",
   "execution_count": 11,
   "metadata": {},
   "outputs": [
    {
     "name": "stdout",
     "output_type": "stream",
     "text": [
      "==========================================================\n",
      "BEM VINDO AO CONVERTIDOR PARA BINÁRIO, OCTAL E HEXADECIMAL\n",
      "==========================================================\n"
     ]
    },
    {
     "ename": "NameError",
     "evalue": "name 'A' is not defined",
     "output_type": "error",
     "traceback": [
      "\u001b[1;31m---------------------------------------------------------------------------\u001b[0m",
      "\u001b[1;31mNameError\u001b[0m                                 Traceback (most recent call last)",
      "Cell \u001b[1;32mIn[11], line 7\u001b[0m\n\u001b[0;32m      4\u001b[0m n\u001b[38;5;241m=\u001b[39m \u001b[38;5;28mint\u001b[39m(\u001b[38;5;28minput\u001b[39m(\u001b[38;5;124m'\u001b[39m\u001b[38;5;124mDigite o número que deve ser convertido = \u001b[39m\u001b[38;5;124m'\u001b[39m))\n\u001b[0;32m      5\u001b[0m escolha\u001b[38;5;241m=\u001b[39m \u001b[38;5;28minput\u001b[39m(\u001b[38;5;124m'\u001b[39m\u001b[38;5;124mDigite A) PARA BINÁRIO / 2 PARA OCTAL / 3 PARA HEXADECIMAL\u001b[39m\u001b[38;5;124m'\u001b[39m)\n\u001b[1;32m----> 7\u001b[0m \u001b[38;5;28;01mif\u001b[39;00m escolha \u001b[38;5;241m==\u001b[39m \u001b[43mA\u001b[49m:\n\u001b[0;32m      8\u001b[0m     \u001b[38;5;28mprint\u001b[39m(\u001b[38;5;124m'\u001b[39m\u001b[38;5;124mBinário = \u001b[39m\u001b[38;5;132;01m{n}\u001b[39;00m\u001b[38;5;124m'\u001b[39m\u001b[38;5;241m.\u001b[39mformat(n, \u001b[38;5;124m'\u001b[39m\u001b[38;5;124mb\u001b[39m\u001b[38;5;124m'\u001b[39m))\n\u001b[0;32m     10\u001b[0m \u001b[38;5;28;01melif\u001b[39;00m escolha\u001b[38;5;241m==\u001b[39m \u001b[38;5;241m2\u001b[39m:\n",
      "\u001b[1;31mNameError\u001b[0m: name 'A' is not defined"
     ]
    },
    {
     "ename": "",
     "evalue": "",
     "output_type": "error",
     "traceback": [
      "\u001b[1;31mO Kernel deu pane ao executar o código na célula atual ou em uma célula anterior. \n",
      "\u001b[1;31mAnalise o código nas células para identificar uma possível causa da pane. \n",
      "\u001b[1;31mClique <a href='https://aka.ms/vscodeJupyterKernelCrash'>aqui</a> para obter mais informações. \n",
      "\u001b[1;31mConsulte Jupyter <a href='command:jupyter.viewOutput'>log</a> para obter mais detalhes."
     ]
    }
   ],
   "source": [
    "print('==========================================================')\n",
    "print('BEM VINDO AO CONVERTIDOR PARA BINÁRIO, OCTAL E HEXADECIMAL')\n",
    "print('==========================================================')\n",
    "n= int(input('Digite o número que deve ser convertido = '))\n",
    "escolha= input('Digite A) PARA BINÁRIO / 2 PARA OCTAL / 3 PARA HEXADECIMAL')\n",
    "\n",
    "if escolha == A:\n",
    "    print('Binário = {n}'.format(n, 'b'))\n",
    "\n",
    "elif escolha== 2:\n",
    "    print('Octal = {n}'.format(n, 'o'))\n"
   ]
  }
 ],
 "metadata": {
  "kernelspec": {
   "display_name": "Python 3",
   "language": "python",
   "name": "python3"
  },
  "language_info": {
   "codemirror_mode": {
    "name": "ipython",
    "version": 3
   },
   "file_extension": ".py",
   "mimetype": "text/x-python",
   "name": "python",
   "nbconvert_exporter": "python",
   "pygments_lexer": "ipython3",
   "version": "3.12.6"
  }
 },
 "nbformat": 4,
 "nbformat_minor": 2
}
