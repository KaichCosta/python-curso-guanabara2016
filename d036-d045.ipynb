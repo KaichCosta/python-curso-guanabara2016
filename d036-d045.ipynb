{
 "cells": [
  {
   "cell_type": "markdown",
   "metadata": {},
   "source": [
    "DESAFIO 036"
   ]
  },
  {
   "cell_type": "code",
   "execution_count": 6,
   "metadata": {},
   "outputs": [
    {
     "name": "stdout",
     "output_type": "stream",
     "text": [
      "============================================\n",
      "BEM VINDO AO BANCO DE FINANCIAMENTO DE CASAS\n",
      "============================================\n",
      "SEU EMPRÉSTIMO PODE SER REALIZADO\n",
      "VOCÊ DEVE PAGAR 409.93 POR MÊS AO BANCO\n"
     ]
    }
   ],
   "source": [
    "print('============================================')\n",
    "print('BEM VINDO AO BANCO DE FINANCIAMENTO DE CASAS')\n",
    "print('============================================')\n",
    "\n",
    "v=int(input('Qual o valor da casa que você quer comprar? = '))\n",
    "s=int(input('Qual o seu salário? = '))\n",
    "t=int(input('Quanto anos você quer pagar pelo empréstimo? = '))\n",
    "\n",
    "meses= t * 12\n",
    "prest= v / meses\n",
    "trinta= s * 0.3\n",
    "\n",
    "if prest <= trinta:\n",
    "    print('SEU EMPRÉSTIMO PODE SER REALIZADO')\n",
    "    print('VOCÊ DEVE PAGAR {:.2f} POR MÊS AO BANCO'.format(prest))\n",
    "else: \n",
    "    print('SEU EMPRÉSTIMO NÃO PODE SER REALIZADO')\n",
    "\n"
   ]
  },
  {
   "cell_type": "markdown",
   "metadata": {},
   "source": [
    "DESAFIO 037"
   ]
  },
  {
   "cell_type": "code",
   "execution_count": 4,
   "metadata": {},
   "outputs": [
    {
     "name": "stdout",
     "output_type": "stream",
     "text": [
      "==========================================================\n",
      "BEM VINDO AO CONVERTIDOR PARA BINÁRIO, OCTAL E HEXADECIMAL\n",
      "==========================================================\n",
      "Binário = 101010\n"
     ]
    }
   ],
   "source": [
    "print('==========================================================')\n",
    "print('BEM VINDO AO CONVERTIDOR PARA BINÁRIO, OCTAL E HEXADECIMAL')\n",
    "print('==========================================================')\n",
    "n= int(input('Digite o número que deve ser convertido = '))\n",
    "escolha= int(input('Digite 1) PARA BINÁRIO / 2) PARA OCTAL / 3) PARA HEXADECIMAL'))\n",
    "\n",
    "if escolha == 1:\n",
    "    print('Binário = {0:b}'.format(n))\n",
    "\n",
    "elif escolha == 2:\n",
    "    print('Octal = {0:o}'.format(n))\n",
    "\n",
    "elif escolha == 3:\n",
    "    print('HEXADECIMAL {0:x}'.format(n))\n",
    "\n",
    "else:\n",
    "    print('VOCÊ ESCOLHEU UMA OPÇÃO INVÁLIDA')        \n"
   ]
  },
  {
   "cell_type": "markdown",
   "metadata": {},
   "source": [
    "DESAFIO 038"
   ]
  },
  {
   "cell_type": "code",
   "execution_count": 7,
   "metadata": {},
   "outputs": [
    {
     "name": "stdout",
     "output_type": "stream",
     "text": [
      "==========================================================\n",
      "BEM VINDO AO ANALISADOR DE NÚMEROS INTEIROS\n",
      "==========================================================\n",
      "Não existe valor maior, os dois são iguais\n"
     ]
    }
   ],
   "source": [
    "\n",
    "if n1 > n2:\n",
    "    print('O primeiro valor é maior')\n",
    "elif n2 > n1:\n",
    "    print('O segundo valor é maior') \n",
    "else:\n",
    "    print('Não existe valor maior, os dois são iguais')       "
   ]
  },
  {
   "cell_type": "markdown",
   "metadata": {},
   "source": [
    "DESAFIO 039"
   ]
  },
  {
   "cell_type": "code",
   "execution_count": 4,
   "metadata": {},
   "outputs": [
    {
     "name": "stdout",
     "output_type": "stream",
     "text": [
      "==========================================================\n",
      "BEM VINDO AO ANALISADOR DE TEMPO PARA ALISTAMENTO MILITAR\n",
      "==========================================================\n",
      "Está na hora de você se alistar\n"
     ]
    }
   ],
   "source": [
    "from datetime import date\n",
    "\n",
    "print('==========================================================')\n",
    "print('BEM VINDO AO ANALISADOR DE TEMPO PARA ALISTAMENTO MILITAR')\n",
    "print('==========================================================')\n",
    "nas = int(input('Digite o ano que você nasceu= '))\n",
    "ano = date.today().year\n",
    "idade = ano - nas\n",
    "\n",
    "if nas> ano:\n",
    "    print('Essa data de Nascimento é inválida')\n",
    "\n",
    "elif idade == 18:\n",
    "    print('Está na hora de você se alistar')\n",
    "\n",
    "elif idade < 18:\n",
    "    saldo= 18 - idade\n",
    "    print('Você é muito novo, ainda faltam {} anos para o alistamento'.format(saldo))\n",
    "    \n",
    "else:\n",
    "    idade > 18\n",
    "    saldo= idade - 18\n",
    "    print('Você já está velho, passaram {} anos para fazer o alistamento'.format(saldo))\n"
   ]
  },
  {
   "cell_type": "markdown",
   "metadata": {},
   "source": [
    "DESAFIO 040\n"
   ]
  },
  {
   "cell_type": "code",
   "execution_count": 12,
   "metadata": {},
   "outputs": [
    {
     "name": "stdout",
     "output_type": "stream",
     "text": [
      "==========================================================\n",
      "BEM VINDO AO ANALISADOR DE NOTAS DAS PROVAS PARA APROVAÇÃO ESCOLAR\n",
      "==========================================================\n",
      "7.0\n",
      "Você foi aprovado PARABÉNS\n"
     ]
    }
   ],
   "source": [
    "print('==========================================================')\n",
    "print('BEM VINDO AO ANALISADOR DE NOTAS DAS PROVAS PARA APROVAÇÃO ESCOLAR')\n",
    "print('==========================================================')\n",
    "n1=int(input('Informe a nota da 1a prova = '))\n",
    "n2=int(input('Informe a nota da 2a prova = '))\n",
    "s= (n1 + n2) / 2\n",
    "print(s)\n",
    "if s < 5:\n",
    "    print('Você foi REPROVADO')\n",
    "\n",
    "elif s > 5 and s < 7:\n",
    "    print('Você está de recuperação')\n",
    "\n",
    "elif s >= 7 and s < 10 :\n",
    "    print('Você foi aprovado PARABÉNS')\n",
    "\n",
    "elif s > 10:\n",
    "    print('Você está mentindo')          \n",
    "\n",
    "else:\n",
    "    s == 10\n",
    "    print('Você foi aprovado com um excelente resultado, PARABÉNS!')        \n"
   ]
  },
  {
   "cell_type": "markdown",
   "metadata": {},
   "source": [
    "DESAFIO 045"
   ]
  },
  {
   "cell_type": "code",
   "execution_count": null,
   "metadata": {},
   "outputs": [],
   "source": [
    "print('==========================================================')\n",
    "print('BEM VINDO AO ANALISADOR DE NOTAS DAS PROVAS PARA APROVAÇÃO ESCOLAR')\n",
    "print('==========================================================')\n",
    "escolha= int(input('Digite 1) PARA PEDRA / 2) PARA PAPEL / 3) PARA TESOURA'))\n",
    "\n",
    "if escolha == 1:\n",
    "    print('Binário = {0:b}'.format(n))\n",
    "\n",
    "elif escolha == 2:\n",
    "    print('Octal = {0:o}'.format(n))\n",
    "\n",
    "elif escolha == 3:\n",
    "    print('HEXADECIMAL {0:x}'.format(n))\n",
    "\n",
    "else:\n",
    "    print('VOCÊ ESCOLHEU UMA OPÇÃO INVÁLIDA')"
   ]
  }
 ],
 "metadata": {
  "kernelspec": {
   "display_name": "Python 3",
   "language": "python",
   "name": "python3"
  },
  "language_info": {
   "codemirror_mode": {
    "name": "ipython",
    "version": 3
   },
   "file_extension": ".py",
   "mimetype": "text/x-python",
   "name": "python",
   "nbconvert_exporter": "python",
   "pygments_lexer": "ipython3",
   "version": "3.12.7"
  }
 },
 "nbformat": 4,
 "nbformat_minor": 2
}
