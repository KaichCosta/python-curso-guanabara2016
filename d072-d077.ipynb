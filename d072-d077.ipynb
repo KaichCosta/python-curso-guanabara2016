{
 "cells": [
  {
   "cell_type": "markdown",
   "metadata": {},
   "source": [
    "DESAFIO 072"
   ]
  },
  {
   "cell_type": "code",
   "execution_count": 2,
   "metadata": {},
   "outputs": [
    {
     "name": "stdout",
     "output_type": "stream",
     "text": [
      "Vc digitou zero\n"
     ]
    }
   ],
   "source": [
    "n = ( \"zero\", \"um\", \"dois\", \"três\", \"quatro\", \"cinco\", \"seis\", \"sete\", \"oito\", \"nove\", \"dez\", \"onze\", \"doze\", \"treze\", \"catorze\", \"quinze\", \"dezesseis\", \"dezessete\", \"dezoito\", \"dezenove\", \"vinte\")\n",
    "\n",
    "for escolha in range(0, len(n)):\n",
    "    opcao = int(input('Digite um valor (de 0 a 20)'))\n",
    "    while opcao < 0 or opcao > 20 :\n",
    "        opcao = int(input('Digite um valor válido'))\n",
    "    break\n",
    "\n",
    "print(f'Vc digitou {n [opcao]}')\n"
   ]
  },
  {
   "cell_type": "markdown",
   "metadata": {},
   "source": [
    "DESAFIO 073"
   ]
  },
  {
   "cell_type": "code",
   "execution_count": 10,
   "metadata": {},
   "outputs": [
    {
     "name": "stdout",
     "output_type": "stream",
     "text": [
      "=-=-=-=-=-=-=-=-=-=-=-=-=-=-=-=-=-=-=-=-=-=-=-=-=-=-=-=-=-=-=-=-=-=-=-=-=-=-=-=-=-=-=-=-=-=-=-=-=-=-=-=-=-=-=-=-=-=-=-=-=-=-=-=-=-=-=-=-=-=-=-=-=-=-=-\n",
      "Os 10 primeiros times são = ('Corinthians', 'Palmeiras', 'Santos', 'Grêmio', 'Cruzeiro', 'Flamengo', 'Vasco', 'Chapecoense', 'Atlético', 'Botafogo')\n",
      "=-=-=-=-=-=-=-=-=-=-=-=-=-=-=-=-=-=-=-=-=-=-=-=-=-=-=-=-=-=-=-=-=-=-=-=-=-=-=-=-=-=-=-=-=-=-=-=-=-=-=-=-=-=-=-=-=-=-=-=-=-=-=-=-=-=-=-=-=-=-=-=-=-=-=-\n",
      "Os 5 primeiros times são = ('Corinthians', 'Palmeiras', 'Santos', 'Grêmio', 'Cruzeiro')\n",
      "=-=-=-=-=-=-=-=-=-=-=-=-=-=-=-=-=-=-=-=-=-=-=-=-=-=-=-=-=-=-=-=-=-=-=-=-=-=-=-=-=-=-=-=-=-=-=-=-=-=-\n",
      "Os 4 times que estão na zona de rebaixamento são = ('Vasco', 'Chapecoense', 'Atlético', 'Botafogo')\n",
      "=-=-=-=-=-=-=-=-=-=-=-=-=-=-=-=-=-=-=-=-=-=-=-=-=-=-=-=-=-=-=-=-=-=-=-=-=-=-=-=-=-=-=-=-=-=-=-=-=-=-=-=-=-=-=-=-=-=-=-=-=-=-=-=-=-=-=-=-=-=-=-=-=-=-=-=-=-=-\n",
      "Os times em ordem alfabética são = ['Atlético', 'Botafogo', 'Chapecoense', 'Corinthians', 'Cruzeiro', 'Flamengo', 'Grêmio', 'Palmeiras', 'Santos', 'Vasco']\n",
      "=-=-=-=-=-=-=-=-=-=-=-=-=-=-=-=-=-=-=-=-=-=-=-=-=-=-=-=-=-=-=-=-=-=-=-=-=-=-=-=-=-=-=-=-=-=-=-=-=-=-=-=-=-=-=-=-=-=-=-=-=-=-=-=-=-=-=-=-=-=-=-=-=-=-=-=-=-=-\n",
      "O Chapecoense está na 8ª posição\n"
     ]
    }
   ],
   "source": [
    "times = ( \"Corinthians\", \"Palmeiras\", \"Santos\", \"Grêmio\", \"Cruzeiro\", \"Flamengo\", \"Vasco\", \"Chapecoense\", \"Atlético\", \"Botafogo\")\n",
    "print(\"=-\" * 75)\n",
    "print(f\"Os 10 primeiros times são = {times}\")\n",
    "print(\"=-\" * 75)\n",
    "print(f\"Os 5 primeiros times são = {(times[:5])}\")\n",
    "print(\"=-\" * 50)\n",
    "print(f\"Os 4 times que estão na zona de rebaixamento são = {(times[-4:])}\")\n",
    "print(\"=-\" * 78)\n",
    "print(f\"Os times em ordem alfabética são = {sorted(times)}\")\n",
    "print(\"=-\" * 78)\n",
    "print(f\"O Chapecoense está na {times.index(\"Chapecoense\")+1}ª posição\")\n",
    "\n"
   ]
  },
  {
   "cell_type": "markdown",
   "metadata": {},
   "source": [
    "DESAFIO 074"
   ]
  },
  {
   "cell_type": "code",
   "execution_count": 23,
   "metadata": {},
   "outputs": [
    {
     "name": "stdout",
     "output_type": "stream",
     "text": [
      "números sorteados = (7, 8, 1, 1, 4)\n",
      "O menor número é = 1)\n",
      "O maior número é = 8)\n"
     ]
    }
   ],
   "source": [
    "\n",
    "from random import randint\n",
    "n = (randint(1, 10),randint(1, 10),randint(1, 10),randint(1, 10),randint(1, 10))\n",
    "print(f\"números sorteados = {n}\")\n",
    "\n",
    "print(f\"O menor número é = {min(n)})\")\n",
    "print(f\"O maior número é = {max(n)})\")"
   ]
  },
  {
   "cell_type": "markdown",
   "metadata": {},
   "source": [
    "DESAFIO 075"
   ]
  },
  {
   "cell_type": "code",
   "execution_count": 40,
   "metadata": {},
   "outputs": [
    {
     "name": "stdout",
     "output_type": "stream",
     "text": [
      "Você digitou os números (9, 8, 9, 3)\n",
      "O número 9 aparece 2 vezes\n",
      "A primeira vez que Você digitou o número 3 foi na 4ª posição\n",
      "Os valores pares que Você digitou foram 8"
     ]
    }
   ],
   "source": [
    "v = (int(input('Valor = ')),\n",
    "    int(input('Valor = ')),\n",
    "    int(input('Valor = ')),\n",
    "    int(input('Valor = ')))\n",
    "print(f\"Você digitou os números {v}\")\n",
    "print(f\"O número 9 aparece {v.count(9)} vezes\")\n",
    "if 3 in v:\n",
    "    print(f\"A primeira vez que Você digitou o número 3 foi na {v.index(3)+1}ª posição\")\n",
    "else:\n",
    "    print(f\"Você não digitou o número 3!\")\n",
    "print(\"Os valores pares que Você digitou foram \", end=\"\")\n",
    "for n in v:\n",
    "    if n % 2 == 0:\n",
    "        print(f\"{n}\", end=\"\")\n"
   ]
  },
  {
   "cell_type": "code",
   "execution_count": null,
   "metadata": {},
   "outputs": [],
   "source": [
    "5"
   ]
  }
 ],
 "metadata": {
  "kernelspec": {
   "display_name": "Python 3",
   "language": "python",
   "name": "python3"
  },
  "language_info": {
   "codemirror_mode": {
    "name": "ipython",
    "version": 3
   },
   "file_extension": ".py",
   "mimetype": "text/x-python",
   "name": "python",
   "nbconvert_exporter": "python",
   "pygments_lexer": "ipython3",
   "version": "3.12.8"
  }
 },
 "nbformat": 4,
 "nbformat_minor": 2
}
