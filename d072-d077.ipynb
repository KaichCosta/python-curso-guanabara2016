{
 "cells": [
  {
   "cell_type": "markdown",
   "metadata": {},
   "source": [
    "DESAFIO 072"
   ]
  },
  {
   "cell_type": "code",
   "execution_count": null,
   "metadata": {},
   "outputs": [
    {
     "name": "stdout",
     "output_type": "stream",
     "text": [
      "Vc digitou quatro\n"
     ]
    }
   ],
   "source": [
    "n = ( \"zero\", \"um\", \"dois\", \"três\", \"quatro\", \"cinco\", \"seis\", \"sete\", \"oito\", \"nove\", \"dez\", \"onze\", \"doze\", \"treze\", \"catorze\", \"quinze\", \"dezesseis\", \"dezessete\", \"dezoito\", \"dezenove\", \"vinte\")\n",
    "#RESPOSTA GUANABARA\n",
    "#while True:\n",
    "#    núm = int(input('DIGITE UM NÚMERO DE 0 A 20 = '))\n",
    "#    if 0 <= núm >= 20:\n",
    "#        break\n",
    "#    print('Digite um valor válido')\n",
    "#print(f'Vc digitou {n[núm]}')\n",
    "for escolha in n:\n",
    "    opcao = int(input('Digite um valor (de 0 a 20)'))\n",
    "    while nn < 0 or nn > 20 :\n",
    "        nn = int(input('Digite um valor válido'))\n",
    "    break\n",
    "print(f'Vc digitou {n [opcao]}')"
   ]
  }
 ],
 "metadata": {
  "kernelspec": {
   "display_name": "Python 3",
   "language": "python",
   "name": "python3"
  },
  "language_info": {
   "codemirror_mode": {
    "name": "ipython",
    "version": 3
   },
   "file_extension": ".py",
   "mimetype": "text/x-python",
   "name": "python",
   "nbconvert_exporter": "python",
   "pygments_lexer": "ipython3",
   "version": "3.12.7"
  }
 },
 "nbformat": 4,
 "nbformat_minor": 2
}
