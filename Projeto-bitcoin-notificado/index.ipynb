{
 "cells": [
  {
   "cell_type": "code",
   "execution_count": null,
   "metadata": {
    "vscode": {
     "languageId": "plaintext"
    }
   },
   "outputs": [],
   "source": []
  },
  {
   "cell_type": "markdown",
   "metadata": {},
   "source": [
    "PASSOS\n",
    "1 importar bibliotecas\n",
    "2 buscar preços bitcoin e ações atuais\n",
    "3 definir valor baixo para comprar e valor alto pra vender\n",
    "4 criar sistema de envio de notificação pro windows\n",
    "5 criar um executavel pra isso tudo\n",
    "\n",
    "6 criar sistema pra enviar pro celular\n",
    "    o 1 qualquer coisa criar outro arquivo pra criar um apk pro celular do meu pai e executar tudo pelo celular do meu pai e fazer ele receber as notificaçoes\n",
    "    o 2 no apk, ter opção de parar a procura de preço  "
   ]
  }
 ],
 "metadata": {
  "language_info": {
   "name": "python"
  }
 },
 "nbformat": 4,
 "nbformat_minor": 2
}
