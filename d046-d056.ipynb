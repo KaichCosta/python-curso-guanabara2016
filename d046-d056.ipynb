{
 "cells": [
  {
   "cell_type": "markdown",
   "metadata": {},
   "source": [
    "DESAFIO 046"
   ]
  },
  {
   "cell_type": "code",
   "execution_count": 8,
   "metadata": {},
   "outputs": [
    {
     "name": "stdout",
     "output_type": "stream",
     "text": [
      "Contagem pros fogos de artifício\n",
      "10\n",
      "9\n",
      "8\n",
      "7\n",
      "6\n",
      "5\n",
      "4\n",
      "3\n",
      "2\n",
      "1\n",
      "BOOMM\n"
     ]
    }
   ],
   "source": [
    "import time\n",
    "print('Contagem pros fogos de artifício')\n",
    "for n in range(10, 0, -1):\n",
    "    print(n)\n",
    "    time.sleep(1)\n",
    "print('BOOMM')    "
   ]
  },
  {
   "cell_type": "markdown",
   "metadata": {},
   "source": [
    "DESAFI0 047"
   ]
  },
  {
   "cell_type": "code",
   "execution_count": 12,
   "metadata": {},
   "outputs": [
    {
     "name": "stdout",
     "output_type": "stream",
     "text": [
      "Contagem dos números pares de 1 até 50\n",
      "0\n",
      "2\n",
      "4\n",
      "6\n",
      "8\n",
      "10\n",
      "12\n",
      "14\n",
      "16\n",
      "18\n",
      "20\n",
      "22\n",
      "24\n",
      "26\n",
      "28\n",
      "30\n",
      "32\n",
      "34\n",
      "36\n",
      "38\n",
      "40\n",
      "42\n",
      "44\n",
      "46\n",
      "48\n",
      "50\n",
      "FIM\n"
     ]
    }
   ],
   "source": [
    "print('Contagem dos números pares de 1 até 50')\n",
    "for n in range(0, 51, 2):\n",
    "    print(n)\n",
    "print('FIM')"
   ]
  },
  {
   "cell_type": "markdown",
   "metadata": {},
   "source": [
    "DESAFIO 048"
   ]
  },
  {
   "cell_type": "code",
   "execution_count": 39,
   "metadata": {},
   "outputs": [
    {
     "name": "stdout",
     "output_type": "stream",
     "text": [
      "Soma dos números Ímpares de 1 até 300\n",
      "A soma foi igual a 20667\n",
      "FIM\n"
     ]
    }
   ],
   "source": [
    "print('Soma dos números Ímpares de 1 até 300')\n",
    "soma = 0\n",
    "for n in range(1, 500, 2):\n",
    "\n",
    "    if n % 3 == 0:\n",
    "        soma += n \n",
    "\n",
    "print(f'A soma foi igual a {soma}')            \n",
    "print('FIM')"
   ]
  },
  {
   "cell_type": "markdown",
   "metadata": {},
   "source": [
    "DESAFIO 049"
   ]
  },
  {
   "cell_type": "code",
   "execution_count": 4,
   "metadata": {},
   "outputs": [
    {
     "name": "stdout",
     "output_type": "stream",
     "text": [
      "|55| x | 0| = | 0|\n",
      "|55| x | 1| = |55|\n",
      "|55| x | 2| = |110|\n",
      "|55| x | 3| = |165|\n",
      "|55| x | 4| = |220|\n",
      "|55| x | 5| = |275|\n",
      "|55| x | 6| = |330|\n",
      "|55| x | 7| = |385|\n",
      "|55| x | 8| = |440|\n",
      "|55| x | 9| = |495|\n",
      "|55| x |10| = |550|\n",
      "fim\n"
     ]
    }
   ],
   "source": [
    "n = int(input('Digite um número que você quer descobrir a tabuada'))\n",
    "tab = 0\n",
    "\n",
    "for tab in range(0, 11):\n",
    "\n",
    "    igual =  n * tab\n",
    "    if n > 1000 :\n",
    "    \n",
    "        print(f'|{n}| x |{tab:2}| = |{igual:5}|')\n",
    "\n",
    "    else:    \n",
    "        if n > 100 :    \n",
    "            print(f'|{n}| x |{tab:2}| = |{igual:4}|')\n",
    "        else:\n",
    "            print(f'|{n}| x |{tab:2}| = |{igual:2}|')\n",
    "print('fim')"
   ]
  },
  {
   "cell_type": "markdown",
   "metadata": {},
   "source": [
    "DESAFIO 050"
   ]
  },
  {
   "cell_type": "code",
   "execution_count": 15,
   "metadata": {},
   "outputs": [
    {
     "name": "stdout",
     "output_type": "stream",
     "text": [
      "============================================================\n",
      "|DIGITE 6 NÚMEROS INTEIROS PARA QUE EU POSSA SOMAR OS PARES|\n",
      "============================================================\n",
      "FIM DO LOOPING\n",
      "............................................\n",
      "A SOMA DOS VALORES PARES DIGITADOS É DE = 62\n"
     ]
    }
   ],
   "source": [
    "print('=='*30)\n",
    "print('|DIGITE 6 NÚMEROS INTEIROS PARA QUE EU POSSA SOMAR OS PARES|')\n",
    "print('=='*30)\n",
    "soma = 0\n",
    "posicao= 1\n",
    "for n in range(0,6):\n",
    "    n= int(input(f'DIGITE O {posicao}o NÚMERO INTEIRO'))\n",
    "    posicao = posicao + 1\n",
    "    if n % 2 == 0:\n",
    "        soma = soma + n\n",
    "        \n",
    "print('FIM DO LOOPING')\n",
    "\n",
    "print('.'*44)\n",
    "print(f'A SOMA DOS VALORES PARES DIGITADOS É DE = {soma}')"
   ]
  },
  {
   "cell_type": "markdown",
   "metadata": {},
   "source": [
    "DESAFIO 051"
   ]
  },
  {
   "cell_type": "code",
   "execution_count": 23,
   "metadata": {},
   "outputs": [
    {
     "name": "stdout",
     "output_type": "stream",
     "text": [
      "========================================\n",
      "|LEITOR DOS 10 PRIMEIROS TERMOS DE UMA P.A.|\n",
      "========================================\n",
      "esse é o 1o TERMO DA SUA P.A. = 55\n",
      "esse é o 2o TERMO DA SUA P.A. = 60\n",
      "esse é o 3o TERMO DA SUA P.A. = 65\n",
      "esse é o 4o TERMO DA SUA P.A. = 70\n",
      "esse é o 5o TERMO DA SUA P.A. = 75\n",
      "esse é o 6o TERMO DA SUA P.A. = 80\n",
      "esse é o 7o TERMO DA SUA P.A. = 85\n",
      "esse é o 8o TERMO DA SUA P.A. = 90\n",
      "esse é o 9o TERMO DA SUA P.A. = 95\n",
      "esse é o 10o TERMO DA SUA P.A. = 100\n",
      "FIM\n"
     ]
    }
   ],
   "source": [
    "print('=='*20)\n",
    "print('|LEITOR DOS 10 PRIMEIROS TERMOS DE UMA P.A.|')\n",
    "print('=='*20)\n",
    "posicao = 2\n",
    "\n",
    "n= int(input('DIGITE O 1o TERMO DA SUA P.A. = '))\n",
    "r= int(input(f'DIGITE A RAZÃO DA SUA P.A. = '))\n",
    "\n",
    "print(f'esse é o 1o TERMO DA SUA P.A. = {n}')\n",
    "for PA in range (0,9):\n",
    "    n = n + r\n",
    "    print(f'esse é o {posicao}o TERMO DA SUA P.A. = {n}')\n",
    "    posicao = posicao + 1\n",
    "print('FIM')\n"
   ]
  }
 ],
 "metadata": {
  "kernelspec": {
   "display_name": "Python 3",
   "language": "python",
   "name": "python3"
  },
  "language_info": {
   "codemirror_mode": {
    "name": "ipython",
    "version": 3
   },
   "file_extension": ".py",
   "mimetype": "text/x-python",
   "name": "python",
   "nbconvert_exporter": "python",
   "pygments_lexer": "ipython3",
   "version": "3.12.-1"
  }
 },
 "nbformat": 4,
 "nbformat_minor": 2
}
