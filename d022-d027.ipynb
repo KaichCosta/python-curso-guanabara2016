{
 "cells": [
  {
   "cell_type": "markdown",
   "metadata": {},
   "source": [
    "Desafio 022 (Criar um programa que leia o nome completo de uma pessoa e mostre)\n",
    "a)o nome com todas as letras maiúsculas \n",
    "b)o nome com todas as minúsculas\n",
    "c)quantas letras ao todo sem espaços\n",
    "d)quantas letras tem o primeiro nome\n"
   ]
  },
  {
   "cell_type": "code",
   "execution_count": null,
   "metadata": {},
   "outputs": [],
   "source": [
    "nome=input('Digite um nome')\n",
    "print(nome.upper())\n",
    "print(nome.lower())\n",
    "print(nome.strip())\n",
    "primeiro_nome=(nome.split())\n",
    "print(primeiro_nome[0])\n",
    "print('Quantas letras tem o primeiro nome?= {} letras'.format(len(primeiro_nome)))"
   ]
  },
  {
   "cell_type": "markdown",
   "metadata": {},
   "source": [
    "Desafio 023 (ler um número de 0 a 9999 e mostre na tela os digitos separados)\n",
    "Ex:1234\n",
    "unidade=1   \n",
    "dezena=2\n",
    "centena=3\n",
    "milhar=4 "
   ]
  },
  {
   "cell_type": "code",
   "execution_count": null,
   "metadata": {},
   "outputs": [],
   "source": [
    "023"
   ]
  }
 ],
 "metadata": {
  "kernelspec": {
   "display_name": "Python 3",
   "language": "python",
   "name": "python3"
  },
  "language_info": {
   "codemirror_mode": {
    "name": "ipython",
    "version": 3
   },
   "file_extension": ".py",
   "mimetype": "text/x-python",
   "name": "python",
   "nbconvert_exporter": "python",
   "pygments_lexer": "ipython3",
   "version": "3.12.5"
  }
 },
 "nbformat": 4,
 "nbformat_minor": 2
}
