{
 "cells": [
  {
   "cell_type": "markdown",
   "metadata": {},
   "source": [
    "DESAFIO 078"
   ]
  },
  {
   "cell_type": "code",
   "execution_count": null,
   "metadata": {},
   "outputs": [],
   "source": [
    "numeros = list()\n",
    "mai = 0\n",
    "men = 0\n",
    "for cont in range(0,5):\n",
    "    numeros.append(int(input(\"Digite um número= \")))\n",
    "print(f\"Você digitou {numeros}\")\n",
    "numeros.sort()\n",
    "print(f\"O maior número digitado foi {numeros[-1]} e ele se repetiu na posição\") \n",
    "print(f\"O menor número digitado foi {numeros[0]}\")"
   ]
  },
  {
   "cell_type": "markdown",
   "metadata": {},
   "source": [
    "DESAFIO 079"
   ]
  },
  {
   "cell_type": "code",
   "execution_count": null,
   "metadata": {},
   "outputs": [],
   "source": [
    "valores = list()\n",
    "while True:\n",
    "    v = int(input(\"Digite um número = \"))\n",
    "    if v not in valores:\n",
    "        valores.append(v)\n",
    "        print(f\"{v} Adicionado\")\n",
    "    else:\n",
    "        print(f\"{v} é um Valor repetido, então não entra na lista\")\n",
    "    r = str(input(\"Quer continuar(S/N)? = \"))\n",
    "    if r in 'Nn':\n",
    "        break\n",
    "    elif r not in 'SsNn':\n",
    "        r = str(input(\"Responda apenas com (S/N)\"))\n",
    "valores.sort()  \n",
    "print(valores)\n"
   ]
  },
  {
   "cell_type": "markdown",
   "metadata": {},
   "source": [
    "DESAFIO 080"
   ]
  },
  {
   "cell_type": "code",
   "execution_count": null,
   "metadata": {},
   "outputs": [],
   "source": [
    "valores = list()\n",
    "for v in range(5):\n",
    "    n = int(input(\"Digite um valor = \"))\n",
    "    if v == 0 or n > valores[len(valores)-1]:#ou valores[-1]\n",
    "        valores.append(n)\n",
    "        print(\"Adicionado no final da lista\")\n",
    "    else:\n",
    "        posicao = 0\n",
    "        while posicao < len(valores):\n",
    "            if n <= valores[posicao]:\n",
    "                valores.insert(posicao, n)\n",
    "                print(f\"Adicionado na posição {posicao} da lista\")\n",
    "                break\n",
    "            posicao += 1\n",
    "print(f\"=!\"*35)\n",
    "print(f\"Os números digitados em ordem crescente foram {valores}\")"
   ]
  },
  {
   "cell_type": "markdown",
   "metadata": {},
   "source": [
    "DESAFIO 081"
   ]
  },
  {
   "cell_type": "code",
   "execution_count": null,
   "metadata": {},
   "outputs": [
    {
     "name": "stdout",
     "output_type": "stream",
     "text": [
      "dd\n",
      "Vc digitou 2 elementos\n",
      "O 5 foi digitado na lista\n",
      "Os elementos em ordem decrescente são [99, 5]\n"
     ]
    }
   ],
   "source": [
    "lista = list()\n",
    "while True:\n",
    "    n = (int(input(\"Digite um valor = \")))\n",
    "    r = input(\"Deseja continuar?S ou N? = \")\n",
    "    if r not in 'SsNn':\n",
    "        r = input(\"Responda com S ou N por favor :D = \")\n",
    "    if r in'Ss':\n",
    "        lista.append(n)\n",
    "        print('dd')\n",
    "    elif r in 'Nn':\n",
    "        lista.append(n)\n",
    "        break\n",
    "print(f\"Vc digitou {len(lista)} elementos\")\n",
    "lista.sort(reverse=True)\n",
    "if 5 in lista:\n",
    "    print(\"O 5 foi digitado na lista\")\n",
    "else:\n",
    "    print(\"O 5 não foi encontrado na lista\")\n",
    "print(f\"Os elementos em ordem decrescente são {lista}\")"
   ]
  },
  {
   "cell_type": "markdown",
   "metadata": {},
   "source": [
    "DESAFIO 082"
   ]
  },
  {
   "cell_type": "code",
   "execution_count": null,
   "metadata": {},
   "outputs": [
    {
     "name": "stdout",
     "output_type": "stream",
     "text": [
      "Salvo\n",
      "Salvo\n",
      "A lista possui os seguintes elementos [5, 1, 8]\n",
      "Os valores pares são []\n",
      "Os valores ímpares são [5, 5, 1]\n"
     ]
    }
   ],
   "source": [
    "lista = list()\n",
    "listapar = list()\n",
    "listaimpar = list()\n",
    "\n",
    "while True:\n",
    "    n = lista.append(int(input(\"Digite um valor = \")))\n",
    "    r = input(\"Deseja continuar?S ou N? = \")\n",
    "    if r not in 'SsNn':\n",
    "        r = input(\"Responda com S ou N por favor :D = \")\n",
    "    if r in'Ss':\n",
    "        print(\"Salvo\")\n",
    "    elif r in 'Nn':\n",
    "        break\n",
    "for indice, v in enumerate(lista):\n",
    "    if v % 2 == 0:\n",
    "        listapar.append(v)\n",
    "    else:\n",
    "        listaimpar.append(v)\n",
    "print(f\"A lista possui os seguintes elementos {lista}\")\n",
    "print(f\"Os valores pares são {listapar}\")\n",
    "print(f\"Os valores ímpares são {listaimpar}\")\n"
   ]
  }
 ],
 "metadata": {
  "kernelspec": {
   "display_name": "Python 3",
   "language": "python",
   "name": "python3"
  },
  "language_info": {
   "codemirror_mode": {
    "name": "ipython",
    "version": 3
   },
   "file_extension": ".py",
   "mimetype": "text/x-python",
   "name": "python",
   "nbconvert_exporter": "python",
   "pygments_lexer": "ipython3",
   "version": "3.12.undefined"
  }
 },
 "nbformat": 4,
 "nbformat_minor": 2
}
