{
 "cells": [
  {
   "cell_type": "markdown",
   "metadata": {},
   "source": [
    "DESAFIO 066"
   ]
  },
  {
   "cell_type": "code",
   "execution_count": 1,
   "metadata": {},
   "outputs": [
    {
     "ename": "KeyboardInterrupt",
     "evalue": "Interrupted by user",
     "output_type": "error",
     "traceback": [
      "\u001b[1;31m---------------------------------------------------------------------------\u001b[0m",
      "\u001b[1;31mKeyboardInterrupt\u001b[0m                         Traceback (most recent call last)",
      "Cell \u001b[1;32mIn[1], line 3\u001b[0m\n\u001b[0;32m      1\u001b[0m soma \u001b[38;5;241m=\u001b[39m n \u001b[38;5;241m=\u001b[39m cont \u001b[38;5;241m=\u001b[39m \u001b[38;5;241m0\u001b[39m\n\u001b[0;32m      2\u001b[0m \u001b[38;5;28;01mwhile\u001b[39;00m n \u001b[38;5;241m!=\u001b[39m \u001b[38;5;241m999\u001b[39m :\n\u001b[1;32m----> 3\u001b[0m     n \u001b[38;5;241m=\u001b[39m \u001b[38;5;28mint\u001b[39m(\u001b[38;5;28;43minput\u001b[39;49m\u001b[43m(\u001b[49m\u001b[38;5;124;43m'\u001b[39;49m\u001b[38;5;124;43mDigite um valor (PRA FECHAR DIGITE 999)\u001b[39;49m\u001b[38;5;124;43m'\u001b[39;49m\u001b[43m)\u001b[49m)\n\u001b[0;32m      4\u001b[0m     \u001b[38;5;28;01mif\u001b[39;00m n \u001b[38;5;241m==\u001b[39m \u001b[38;5;241m999\u001b[39m:\n\u001b[0;32m      5\u001b[0m         \u001b[38;5;28;01mbreak\u001b[39;00m\n",
      "File \u001b[1;32m~\\AppData\\Local\\Packages\\PythonSoftwareFoundation.Python.3.12_qbz5n2kfra8p0\\LocalCache\\local-packages\\Python312\\site-packages\\ipykernel\\kernelbase.py:1282\u001b[0m, in \u001b[0;36mKernel.raw_input\u001b[1;34m(self, prompt)\u001b[0m\n\u001b[0;32m   1280\u001b[0m     msg \u001b[38;5;241m=\u001b[39m \u001b[38;5;124m\"\u001b[39m\u001b[38;5;124mraw_input was called, but this frontend does not support input requests.\u001b[39m\u001b[38;5;124m\"\u001b[39m\n\u001b[0;32m   1281\u001b[0m     \u001b[38;5;28;01mraise\u001b[39;00m StdinNotImplementedError(msg)\n\u001b[1;32m-> 1282\u001b[0m \u001b[38;5;28;01mreturn\u001b[39;00m \u001b[38;5;28;43mself\u001b[39;49m\u001b[38;5;241;43m.\u001b[39;49m\u001b[43m_input_request\u001b[49m\u001b[43m(\u001b[49m\n\u001b[0;32m   1283\u001b[0m \u001b[43m    \u001b[49m\u001b[38;5;28;43mstr\u001b[39;49m\u001b[43m(\u001b[49m\u001b[43mprompt\u001b[49m\u001b[43m)\u001b[49m\u001b[43m,\u001b[49m\n\u001b[0;32m   1284\u001b[0m \u001b[43m    \u001b[49m\u001b[38;5;28;43mself\u001b[39;49m\u001b[38;5;241;43m.\u001b[39;49m\u001b[43m_parent_ident\u001b[49m\u001b[43m[\u001b[49m\u001b[38;5;124;43m\"\u001b[39;49m\u001b[38;5;124;43mshell\u001b[39;49m\u001b[38;5;124;43m\"\u001b[39;49m\u001b[43m]\u001b[49m\u001b[43m,\u001b[49m\n\u001b[0;32m   1285\u001b[0m \u001b[43m    \u001b[49m\u001b[38;5;28;43mself\u001b[39;49m\u001b[38;5;241;43m.\u001b[39;49m\u001b[43mget_parent\u001b[49m\u001b[43m(\u001b[49m\u001b[38;5;124;43m\"\u001b[39;49m\u001b[38;5;124;43mshell\u001b[39;49m\u001b[38;5;124;43m\"\u001b[39;49m\u001b[43m)\u001b[49m\u001b[43m,\u001b[49m\n\u001b[0;32m   1286\u001b[0m \u001b[43m    \u001b[49m\u001b[43mpassword\u001b[49m\u001b[38;5;241;43m=\u001b[39;49m\u001b[38;5;28;43;01mFalse\u001b[39;49;00m\u001b[43m,\u001b[49m\n\u001b[0;32m   1287\u001b[0m \u001b[43m\u001b[49m\u001b[43m)\u001b[49m\n",
      "File \u001b[1;32m~\\AppData\\Local\\Packages\\PythonSoftwareFoundation.Python.3.12_qbz5n2kfra8p0\\LocalCache\\local-packages\\Python312\\site-packages\\ipykernel\\kernelbase.py:1325\u001b[0m, in \u001b[0;36mKernel._input_request\u001b[1;34m(self, prompt, ident, parent, password)\u001b[0m\n\u001b[0;32m   1322\u001b[0m \u001b[38;5;28;01mexcept\u001b[39;00m \u001b[38;5;167;01mKeyboardInterrupt\u001b[39;00m:\n\u001b[0;32m   1323\u001b[0m     \u001b[38;5;66;03m# re-raise KeyboardInterrupt, to truncate traceback\u001b[39;00m\n\u001b[0;32m   1324\u001b[0m     msg \u001b[38;5;241m=\u001b[39m \u001b[38;5;124m\"\u001b[39m\u001b[38;5;124mInterrupted by user\u001b[39m\u001b[38;5;124m\"\u001b[39m\n\u001b[1;32m-> 1325\u001b[0m     \u001b[38;5;28;01mraise\u001b[39;00m \u001b[38;5;167;01mKeyboardInterrupt\u001b[39;00m(msg) \u001b[38;5;28;01mfrom\u001b[39;00m \u001b[38;5;28;01mNone\u001b[39;00m\n\u001b[0;32m   1326\u001b[0m \u001b[38;5;28;01mexcept\u001b[39;00m \u001b[38;5;167;01mException\u001b[39;00m:\n\u001b[0;32m   1327\u001b[0m     \u001b[38;5;28mself\u001b[39m\u001b[38;5;241m.\u001b[39mlog\u001b[38;5;241m.\u001b[39mwarning(\u001b[38;5;124m\"\u001b[39m\u001b[38;5;124mInvalid Message:\u001b[39m\u001b[38;5;124m\"\u001b[39m, exc_info\u001b[38;5;241m=\u001b[39m\u001b[38;5;28;01mTrue\u001b[39;00m)\n",
      "\u001b[1;31mKeyboardInterrupt\u001b[0m: Interrupted by user"
     ]
    }
   ],
   "source": [
    "soma = n = cont = 0\n",
    "while n != 999 :\n",
    "    n = int(input('Digite um valor (PRA FECHAR DIGITE 999)'))\n",
    "    if n == 999:\n",
    "        break\n",
    "    soma += n\n",
    "    cont += 1\n",
    "print(f'a soma dos valores é {soma} e vc digitou {cont} números')\n",
    "\n"
   ]
  },
  {
   "cell_type": "markdown",
   "metadata": {},
   "source": [
    "DESAFIO 067\n"
   ]
  },
  {
   "cell_type": "code",
   "execution_count": 2,
   "metadata": {},
   "outputs": [
    {
     "name": "stdout",
     "output_type": "stream",
     "text": [
      "============\n",
      "4 x 1 = 4\n",
      "4 x 2 = 8\n",
      "4 x 3 = 12\n",
      "4 x 4 = 16\n",
      "4 x 5 = 20\n",
      "4 x 6 = 24\n",
      "4 x 7 = 28\n",
      "4 x 8 = 32\n",
      "4 x 9 = 36\n",
      "4 x 10 = 40\n",
      "============\n",
      "2 x 1 = 2\n",
      "2 x 2 = 4\n",
      "2 x 3 = 6\n",
      "2 x 4 = 8\n",
      "2 x 5 = 10\n",
      "2 x 6 = 12\n",
      "2 x 7 = 14\n",
      "2 x 8 = 16\n",
      "2 x 9 = 18\n",
      "2 x 10 = 20\n",
      "============\n",
      "===============================\n",
      "FIM, OBRIGADO POR USAR A TABELA\n",
      "===============================\n"
     ]
    }
   ],
   "source": [
    "n = 1\n",
    "while True:\n",
    "    n = int(input('Digite um valor (PRA FECHAR DIGITE UM NUMERO NEGATIVO)'))\n",
    "    print('='*12)\n",
    "    if n < 0:\n",
    "        break \n",
    "    cont = 1\n",
    "    while cont < 11:\n",
    "        mult = n * cont\n",
    "        print(f'{n} x {cont} = {mult}')\n",
    "        cont += 1\n",
    "        \n",
    "print('='*31)    \n",
    "print('FIM, OBRIGADO POR USAR A TABELA')\n",
    "print('='*31)    \n"
   ]
  },
  {
   "cell_type": "markdown",
   "metadata": {},
   "source": [
    "DESAFIO 068"
   ]
  },
  {
   "cell_type": "code",
   "execution_count": 5,
   "metadata": {},
   "outputs": [
    {
     "name": "stdout",
     "output_type": "stream",
     "text": [
      "============================================================\n",
      "|BEM VINDO AO JOGO DE PAR OU IMPAR|\n",
      "============================================================\n",
      "VC ESCOLHEU U\n",
      "DIGITE UMA ESCOLHA VÁLIDA\n",
      "T\n",
      "DIGITE UMA ESCOLHA VÁLIDA\n",
      "I\n",
      "GANHOU A || PARTIDA 1 !!! VAMOS DE NOVO \n",
      "VC ESCOLHEU 3\n",
      "DIGITE UMA ESCOLHA VÁLIDA\n",
      "P\n",
      "GANHOU A || PARTIDA {soma} !!! VAMOS DE NOVO \n",
      "VC ESCOLHEU I\n",
      "FIM DE JOGO VC PERDEU\n",
      "============================================================\n",
      " FIM DE JOGO VC PERDEU !\n",
      " MAS GANHOU 2 VEZES\n"
     ]
    }
   ],
   "source": [
    "from random import randint\n",
    "maq = randint (0,10)\n",
    "print('=='*30)\n",
    "print('|BEM VINDO AO JOGO DE PAR OU IMPAR|')\n",
    "print('=='*30)\n",
    "soma = 0\n",
    "resp = 'V'\n",
    "while True:\n",
    "    escolha = (input('Digite ( P ) para PAR E ( I ) para ÍMPAR = ')).upper()\n",
    "    print(f'VC ESCOLHEU {escolha}')\n",
    "\n",
    "    while escolha not in 'PpIi':\n",
    "        print('DIGITE UMA ESCOLHA VÁLIDA')\n",
    "        escolha = (input('Digite ( P ) para PAR E ( I ) para ÍMPAR = ')).upper()\n",
    "        print(escolha)\n",
    "\n",
    "    n = int(input('Digite um valor = '))\n",
    "\n",
    "    validar = maq + n\n",
    "    if  validar %2 == 0 and escolha == 'P':\n",
    "        print('GANHOU A || PARTIDA {soma} !!! VAMOS DE NOVO ')\n",
    "        resp = 'V'\n",
    "        soma += 1\n",
    "        \n",
    "    if validar %2 == 0 and escolha == 'I':\n",
    "        print('FIM DE JOGO VC PERDEU')\n",
    "        break\n",
    "\n",
    "    if validar %2 != 0 and escolha == 'P':\n",
    "        print('FIM DE JOGO VC PERDEU')\n",
    "        break\n",
    "\n",
    "    if validar %2 != 0 and escolha == 'I':\n",
    "        soma += 1\n",
    "        print(f'GANHOU A || PARTIDA {soma} !!! VAMOS DE NOVO ')\n",
    "        resp = 'V'\n",
    "        \n",
    "print('=='*30)\n",
    "if soma >= 1:\n",
    "    print(f' FIM DE JOGO VC PERDEU !\\n MAS GANHOU {soma} VEZES')"
   ]
  },
  {
   "cell_type": "markdown",
   "metadata": {},
   "source": [
    "DESFIO 069"
   ]
  },
  {
   "cell_type": "code",
   "execution_count": 5,
   "metadata": {},
   "outputs": [
    {
     "name": "stdout",
     "output_type": "stream",
     "text": [
      "============================================================\n",
      "|BEM VINDO AO ANALIZADOR DE DADOS DE PESSOAS|\n",
      "============================================================\n",
      "-.-.-.-.-.-.-.-.-.-.-.-.-.-.-.-.-.-.-.-.-.-.-.-.-.-.-.-.-.-.\n",
      "33\n",
      "-.-.-.-.-.-.-.-.-.-.-.-.-.-.-.-.-.-.-.-.-.-.-.-.-.-.-.-.-.-.\n",
      "Digite ( M ) ou ( F )\n",
      "\n",
      "-.-.-.-.-.-.-.-.-.-.-.-.-.-.-.-.-.-.-.-.-.-.-.-.-.-.-.-.-.-.\n",
      "4\n",
      "-.-.-.-.-.-.-.-.-.-.-.-.-.-.-.-.-.-.-.-.-.-.-.-.-.-.-.-.-.-.\n",
      "Digite ( M ) ou ( F )\n",
      "M\n",
      "=-=-=-=-=-=-=-=-=-=-=-=-=-=-=-=-=-=-=-=-=-=-=-=-=-=-=-=-=-=-\n",
      "Foram cadastradas 1 pessoas maiores de idade\n",
      "Foram cadastrados 1 homens\n",
      "Foram cadastradas 0 mulheres com menos de 20 anos\n"
     ]
    }
   ],
   "source": [
    "print('=='*30)\n",
    "print('|BEM VINDO AO ANALIZADOR DE DADOS DE PESSOAS|')\n",
    "print('=='*30)\n",
    "REP = 'A'\n",
    "S = 'a'\n",
    "dmaior = h = m = 0\n",
    "\n",
    "while True:\n",
    "    I = int(input('Digite a idade da pessoa = '))\n",
    "    print('-.'*30)\n",
    "    print(I)\n",
    "\n",
    "    S = str(input('Digite o sexo da pessoa M|F = ')).upper()\n",
    "    print('-.'*30)\n",
    "    print('Digite ( M ) ou ( F )')\n",
    "    print(S)\n",
    "\n",
    "    while S not in 'MF':\n",
    "        print('DIGITE UMA ESCOLHA VÁLIDA')\n",
    "        S = (input('Digite ( M ) para MASCULINO E ( F ) para FEMININO = ')).upper()\n",
    "        print(S)\n",
    "        \n",
    "    if I >= 18:\n",
    "        dmaior += 1\n",
    "\n",
    "    if S == 'M':\n",
    "        h += 1\n",
    "\n",
    "    if S == 'F' and I < 20:\n",
    "        m += 1\n",
    "\n",
    "    REP = str(input('Quer continuar? S|N = ')).upper()\n",
    "    if REP == 'N':\n",
    "        break\n",
    "print('=-'*30)\n",
    "print(f'Foram cadastradas {dmaior} pessoas maiores de idade')\n",
    "print(f'Foram cadastrados {h} homens')\n",
    "print(f'Foram cadastradas {m} mulheres com menos de 20 anos')\n",
    "\n",
    "    \n",
    "\n",
    "\n"
   ]
  },
  {
   "cell_type": "markdown",
   "metadata": {},
   "source": [
    "DESAFIO 070"
   ]
  },
  {
   "cell_type": "code",
   "execution_count": null,
   "metadata": {},
   "outputs": [
    {
     "name": "stdout",
     "output_type": "stream",
     "text": [
      "============================================================\n",
      "|BEM VINDO A LOJA BARATA KKK|\n",
      "============================================================\n",
      "O total de compras foi | 5002 |\n",
      "Há | 1 | produtos que custam mais de R$1000,00\n",
      "O produto mais barato foi | lapis |\n"
     ]
    }
   ],
   "source": [
    "print('=='*30)\n",
    "print('|BEM VINDO A LOJA BARATA KKK|')\n",
    "print('=='*30)\n",
    "mais = tot = menor = cont = 0\n",
    "barato = ''\n",
    "\n",
    "\n",
    "while True:\n",
    "    p = str(input('Nome do produto = '))\n",
    "    v = int(input('Valor = '))\n",
    "    REP = input('Quer continuar S/N = ').upper()\n",
    "    if REP == 'N':\n",
    "        break\n",
    "    if REP not in 'SN':\n",
    "        while REP not in 'SN':\n",
    "            REP = str(input('Quer continuar S/N = ')).upper()\n",
    "\n",
    "    tot += v\n",
    "    cont += 1\n",
    "    if v > 1000:\n",
    "        mais += 1\n",
    "\n",
    "    if cont == 1 or v < menor:\n",
    "        menor = v\n",
    "        barato = p   \n",
    "    \n",
    "\n",
    "\n",
    "    \n",
    "print( f'O total de compras foi | {tot:.2f} |')    \n",
    "print(f'Há | {mais} | produtos que custam mais de R$1000,00')\n",
    "print(f'O produto mais barato foi | {barato} |') \n"
   ]
  },
  {
   "cell_type": "markdown",
   "metadata": {},
   "source": [
    "DESAFIO 071"
   ]
  },
  {
   "cell_type": "code",
   "execution_count": 10,
   "metadata": {},
   "outputs": [
    {
     "name": "stdout",
     "output_type": "stream",
     "text": [
      "==============================\n",
      "|BEM VINDO AO K BANK|\n",
      "==============================\n",
      "===SAQUES===\n",
      "3\n",
      "VC vai receber 0 notas de R$50,00\n",
      "VC vai receber 0 notas de R$20,00\n",
      "VC vai receber 0 notas de R$10,00\n",
      "VC vai receber 3 notas de R$1,00\n"
     ]
    }
   ],
   "source": [
    "print('='*30)\n",
    "print('|BEM VINDO AO K BANK|')\n",
    "print('='*30)\n",
    "print('===SAQUES===')\n",
    "v = int(input('Valor = '))\n",
    "print(v)\n",
    "cinq = vint = dez = um = 0\n",
    "while True:\n",
    "    if v >= 50:\n",
    "        cinq = v // 50\n",
    "        v = v - 50\n",
    "\n",
    "    if v >= 20 < 49:\n",
    "        vint = v // 20\n",
    "        v = v - 20\n",
    "\n",
    "    if v >= 10 < 19:\n",
    "        dez = v // 10\n",
    "        v = v - 10\n",
    "\n",
    "    if v >= 0 < 9:\n",
    "        um = v // 1\n",
    "            \n",
    "    break\n",
    "    \n",
    "\n",
    "print(f'VC vai receber {cinq} notas de R$50,00')\n",
    "print(f'VC vai receber {vint} notas de R$20,00')\n",
    "print(f'VC vai receber {dez} notas de R$10,00')\n",
    "print(f'VC vai receber {um} notas de R$1,00')"
   ]
  }
 ],
 "metadata": {
  "kernelspec": {
   "display_name": "Python 3",
   "language": "python",
   "name": "python3"
  },
  "language_info": {
   "codemirror_mode": {
    "name": "ipython",
    "version": 3
   },
   "file_extension": ".py",
   "mimetype": "text/x-python",
   "name": "python",
   "nbconvert_exporter": "python",
   "pygments_lexer": "ipython3",
   "version": "3.12.7"
  }
 },
 "nbformat": 4,
 "nbformat_minor": 2
}
