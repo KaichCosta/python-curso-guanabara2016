{
 "cells": [
  {
   "cell_type": "markdown",
   "metadata": {},
   "source": [
    "DESAFIO 066"
   ]
  },
  {
   "cell_type": "code",
   "execution_count": null,
   "metadata": {},
   "outputs": [],
   "source": [
    "soma = n = cont = 0\n",
    "while n != 999 :\n",
    "    n = int(input('Digite um valor (PRA FECHAR DIGITE 999)'))\n",
    "    if n == 999:\n",
    "        break\n",
    "    soma += n\n",
    "    cont += 1\n",
    "print(f'a soma dos valores é {soma} e vc digitou {cont} números')\n",
    "\n"
   ]
  },
  {
   "cell_type": "markdown",
   "metadata": {},
   "source": [
    "DESAFIO 067\n"
   ]
  },
  {
   "cell_type": "code",
   "execution_count": 20,
   "metadata": {},
   "outputs": [
    {
     "name": "stdout",
     "output_type": "stream",
     "text": [
      "============\n",
      "-6 x 1 = -6\n",
      "-6 x 2 = -12\n",
      "-6 x 3 = -18\n",
      "-6 x 4 = -24\n",
      "-6 x 5 = -30\n",
      "-6 x 6 = -36\n",
      "-6 x 7 = -42\n",
      "-6 x 8 = -48\n",
      "-6 x 9 = -54\n",
      "-6 x 10 = -60\n",
      "===============================\n",
      "FIM, OBRIGADO POR USAR A TABELA\n",
      "===============================\n"
     ]
    }
   ],
   "source": [
    "n = 1\n",
    "while n > 0:\n",
    "    n = int(input('Digite um valor (PRA FECHAR DIGITE UM NUMERO NEGATIVO)'))\n",
    "    print('='*12)  \n",
    "    cont = 1\n",
    "    while cont < 11:\n",
    "        mult = n * cont\n",
    "        print(f'{n} x {cont} = {mult}')\n",
    "        cont += 1  \n",
    "print('='*31)    \n",
    "print('FIM, OBRIGADO POR USAR A TABELA')\n",
    "print('='*31)    \n"
   ]
  },
  {
   "cell_type": "markdown",
   "metadata": {},
   "source": [
    "DESAFIO 068"
   ]
  },
  {
   "cell_type": "code",
   "execution_count": null,
   "metadata": {},
   "outputs": [],
   "source": [
    "from random import randint\n",
    "maq = randint (0,10)\n",
    "print('=='*30)\n",
    "print('|BEM VINDO AO JOGO DE PAR OU IMPAR|')\n",
    "print('=='*30)\n",
    "soma = 0\n",
    "resp = 'V'\n",
    "while resp == 'V':\n",
    "    escolha = (input('Digite ( P ) para PAR E ( I ) para ÍMPAR = ')).upper()\n",
    "    print(f'VC ESCOLHEU {escolha}')\n",
    "\n",
    "    if escolha != 'I' != 'P':\n",
    "\n",
    "        while escolha != 'I' != 'P':\n",
    "            print('DIGITE UMA ESCOLHA VÁLIDA')\n",
    "            escolha = (input('Digite ( P ) para PAR E ( I ) para ÍMPAR = ')).upper()\n",
    "            print(escolha)\n",
    "\n",
    "    n = int(input('Digite um valor = '))\n",
    "\n",
    "    valida = maq + n\n",
    "    if  valida %2 == 0 and escolha == 'P':\n",
    "        print('GANHOU A || PARTIDA {soma} !!! VAMOS DE NOVO ')\n",
    "        resp = 'V'\n",
    "        soma += 1\n",
    "        \n",
    "    if valida %2 == 0 and escolha == 'I':\n",
    "        print('FIM DE JOGO VC PERDEU')\n",
    "        break\n",
    "\n",
    "    if valida %2 != 0 and escolha == 'P':\n",
    "        print('FIM DE JOGO VC PERDEU')\n",
    "        break\n",
    "\n",
    "    if valida %2 != 0 and escolha == 'I':\n",
    "        soma += 1\n",
    "        print(f'GANHOU A || PARTIDA {soma} !!! VAMOS DE NOVO ')\n",
    "        resp = 'V'\n",
    "        \n",
    "print('=='*30)\n",
    "if soma >= 1:\n",
    "    print(f' FIM DE JOGO VC PERDEU !\\n MAS GANHOU {soma} VEZES')"
   ]
  }
 ],
 "metadata": {
  "kernelspec": {
   "display_name": "Python 3",
   "language": "python",
   "name": "python3"
  },
  "language_info": {
   "codemirror_mode": {
    "name": "ipython",
    "version": 3
   },
   "file_extension": ".py",
   "mimetype": "text/x-python",
   "name": "python",
   "nbconvert_exporter": "python",
   "pygments_lexer": "ipython3",
   "version": "3.12.7"
  }
 },
 "nbformat": 4,
 "nbformat_minor": 2
}
