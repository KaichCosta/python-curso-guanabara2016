{
 "cells": [
  {
   "cell_type": "markdown",
   "metadata": {},
   "source": [
    "DESAFIO 066"
   ]
  },
  {
   "cell_type": "code",
   "execution_count": null,
   "metadata": {},
   "outputs": [],
   "source": [
    "soma = n = cont = 0\n",
    "while n != 999 :\n",
    "    n = int(input('Digite um valor (PRA FECHAR DIGITE 999)'))\n",
    "    soma += n\n",
    "    if n == 999:\n",
    "        break\n",
    "print(f'a soma dos valores é {soma} e vc digitou {cont} números')\n",
    "\n"
   ]
  }
 ],
 "metadata": {
  "kernelspec": {
   "display_name": "Python 3",
   "language": "python",
   "name": "python3"
  },
  "language_info": {
   "name": "python",
   "version": "3.12.7"
  }
 },
 "nbformat": 4,
 "nbformat_minor": 2
}
