{
 "cells": [
  {
   "cell_type": "markdown",
   "metadata": {},
   "source": [
    "DESAFIO 066"
   ]
  },
  {
   "cell_type": "code",
   "execution_count": null,
   "metadata": {},
   "outputs": [],
   "source": [
    "soma = n = cont = 0\n",
    "while n != 999 :\n",
    "    n = int(input('Digite um valor (PRA FECHAR DIGITE 999)'))\n",
    "    if n == 999:\n",
    "        break\n",
    "    soma += n\n",
    "    cont += 1\n",
    "print(f'a soma dos valores é {soma} e vc digitou {cont} números')\n",
    "\n"
   ]
  },
  {
   "cell_type": "markdown",
   "metadata": {},
   "source": [
    "DESAFIO 067\n"
   ]
  },
  {
   "cell_type": "code",
   "execution_count": 2,
   "metadata": {},
   "outputs": [
    {
     "name": "stdout",
     "output_type": "stream",
     "text": [
      "============\n",
      "4 x 1 = 4\n",
      "4 x 2 = 8\n",
      "4 x 3 = 12\n",
      "4 x 4 = 16\n",
      "4 x 5 = 20\n",
      "4 x 6 = 24\n",
      "4 x 7 = 28\n",
      "4 x 8 = 32\n",
      "4 x 9 = 36\n",
      "4 x 10 = 40\n",
      "============\n",
      "2 x 1 = 2\n",
      "2 x 2 = 4\n",
      "2 x 3 = 6\n",
      "2 x 4 = 8\n",
      "2 x 5 = 10\n",
      "2 x 6 = 12\n",
      "2 x 7 = 14\n",
      "2 x 8 = 16\n",
      "2 x 9 = 18\n",
      "2 x 10 = 20\n",
      "============\n",
      "===============================\n",
      "FIM, OBRIGADO POR USAR A TABELA\n",
      "===============================\n"
     ]
    }
   ],
   "source": [
    "n = 1\n",
    "while True:\n",
    "    n = int(input('Digite um valor (PRA FECHAR DIGITE UM NUMERO NEGATIVO)'))\n",
    "    print('='*12)\n",
    "    if n < 0:\n",
    "        break \n",
    "    cont = 1\n",
    "    while cont < 11:\n",
    "        mult = n * cont\n",
    "        print(f'{n} x {cont} = {mult}')\n",
    "        cont += 1\n",
    "        \n",
    "print('='*31)    \n",
    "print('FIM, OBRIGADO POR USAR A TABELA')\n",
    "print('='*31)    \n"
   ]
  },
  {
   "cell_type": "markdown",
   "metadata": {},
   "source": [
    "DESAFIO 068"
   ]
  },
  {
   "cell_type": "code",
   "execution_count": 5,
   "metadata": {},
   "outputs": [
    {
     "name": "stdout",
     "output_type": "stream",
     "text": [
      "============================================================\n",
      "|BEM VINDO AO JOGO DE PAR OU IMPAR|\n",
      "============================================================\n",
      "VC ESCOLHEU U\n",
      "DIGITE UMA ESCOLHA VÁLIDA\n",
      "T\n",
      "DIGITE UMA ESCOLHA VÁLIDA\n",
      "I\n",
      "GANHOU A || PARTIDA 1 !!! VAMOS DE NOVO \n",
      "VC ESCOLHEU 3\n",
      "DIGITE UMA ESCOLHA VÁLIDA\n",
      "P\n",
      "GANHOU A || PARTIDA {soma} !!! VAMOS DE NOVO \n",
      "VC ESCOLHEU I\n",
      "FIM DE JOGO VC PERDEU\n",
      "============================================================\n",
      " FIM DE JOGO VC PERDEU !\n",
      " MAS GANHOU 2 VEZES\n"
     ]
    }
   ],
   "source": [
    "from random import randint\n",
    "maq = randint (0,10)\n",
    "print('=='*30)\n",
    "print('|BEM VINDO AO JOGO DE PAR OU IMPAR|')\n",
    "print('=='*30)\n",
    "soma = 0\n",
    "resp = 'V'\n",
    "while True:\n",
    "    escolha = (input('Digite ( P ) para PAR E ( I ) para ÍMPAR = ')).upper()\n",
    "    print(f'VC ESCOLHEU {escolha}')\n",
    "\n",
    "    while escolha not in 'PpIi':\n",
    "        print('DIGITE UMA ESCOLHA VÁLIDA')\n",
    "        escolha = (input('Digite ( P ) para PAR E ( I ) para ÍMPAR = ')).upper()\n",
    "        print(escolha)\n",
    "\n",
    "    n = int(input('Digite um valor = '))\n",
    "\n",
    "    validar = maq + n\n",
    "    if  validar %2 == 0 and escolha == 'P':\n",
    "        print('GANHOU A || PARTIDA {soma} !!! VAMOS DE NOVO ')\n",
    "        resp = 'V'\n",
    "        soma += 1\n",
    "        \n",
    "    if validar %2 == 0 and escolha == 'I':\n",
    "        print('FIM DE JOGO VC PERDEU')\n",
    "        break\n",
    "\n",
    "    if validar %2 != 0 and escolha == 'P':\n",
    "        print('FIM DE JOGO VC PERDEU')\n",
    "        break\n",
    "\n",
    "    if validar %2 != 0 and escolha == 'I':\n",
    "        soma += 1\n",
    "        print(f'GANHOU A || PARTIDA {soma} !!! VAMOS DE NOVO ')\n",
    "        resp = 'V'\n",
    "        \n",
    "print('=='*30)\n",
    "if soma >= 1:\n",
    "    print(f' FIM DE JOGO VC PERDEU !\\n MAS GANHOU {soma} VEZES')"
   ]
  },
  {
   "cell_type": "markdown",
   "metadata": {},
   "source": [
    "DESFIO 069"
   ]
  },
  {
   "cell_type": "code",
   "execution_count": 5,
   "metadata": {},
   "outputs": [
    {
     "name": "stdout",
     "output_type": "stream",
     "text": [
      "============================================================\n",
      "|BEM VINDO AO ANALIZADOR DE DADOS DE PESSOAS|\n",
      "============================================================\n",
      "-.-.-.-.-.-.-.-.-.-.-.-.-.-.-.-.-.-.-.-.-.-.-.-.-.-.-.-.-.-.\n",
      "33\n",
      "-.-.-.-.-.-.-.-.-.-.-.-.-.-.-.-.-.-.-.-.-.-.-.-.-.-.-.-.-.-.\n",
      "Digite ( M ) ou ( F )\n",
      "\n",
      "-.-.-.-.-.-.-.-.-.-.-.-.-.-.-.-.-.-.-.-.-.-.-.-.-.-.-.-.-.-.\n",
      "4\n",
      "-.-.-.-.-.-.-.-.-.-.-.-.-.-.-.-.-.-.-.-.-.-.-.-.-.-.-.-.-.-.\n",
      "Digite ( M ) ou ( F )\n",
      "M\n",
      "=-=-=-=-=-=-=-=-=-=-=-=-=-=-=-=-=-=-=-=-=-=-=-=-=-=-=-=-=-=-\n",
      "Foram cadastradas 1 pessoas maiores de idade\n",
      "Foram cadastrados 1 homens\n",
      "Foram cadastradas 0 mulheres com menos de 20 anos\n"
     ]
    }
   ],
   "source": [
    "print('=='*30)\n",
    "print('|BEM VINDO AO ANALIZADOR DE DADOS DE PESSOAS|')\n",
    "print('=='*30)\n",
    "REP = 'A'\n",
    "S = 'a'\n",
    "dmaior = h = m = 0\n",
    "\n",
    "while True:\n",
    "    I = int(input('Digite a idade da pessoa = '))\n",
    "    print('-.'*30)\n",
    "    print(I)\n",
    "\n",
    "    S = str(input('Digite o sexo da pessoa M|F = ')).upper()\n",
    "    print('-.'*30)\n",
    "    print('Digite ( M ) ou ( F )')\n",
    "    print(S)\n",
    "\n",
    "    while S not in 'MF':\n",
    "        print('DIGITE UMA ESCOLHA VÁLIDA')\n",
    "        S = (input('Digite ( M ) para MASCULINO E ( F ) para FEMININO = ')).upper()\n",
    "        print(S)\n",
    "        \n",
    "    if I >= 18:\n",
    "        dmaior += 1\n",
    "\n",
    "    if S == 'M':\n",
    "        h += 1\n",
    "\n",
    "    if S == 'F' and I < 20:\n",
    "        m += 1\n",
    "\n",
    "    REP = str(input('Quer continuar? S|N = ')).upper()\n",
    "    if REP == 'N':\n",
    "        break\n",
    "print('=-'*30)\n",
    "print(f'Foram cadastradas {dmaior} pessoas maiores de idade')\n",
    "print(f'Foram cadastrados {h} homens')\n",
    "print(f'Foram cadastradas {m} mulheres com menos de 20 anos')\n",
    "\n",
    "    \n",
    "\n",
    "\n"
   ]
  },
  {
   "cell_type": "markdown",
   "metadata": {},
   "source": [
    "DESAFIO 070"
   ]
  },
  {
   "cell_type": "code",
   "execution_count": null,
   "metadata": {},
   "outputs": [
    {
     "name": "stdout",
     "output_type": "stream",
     "text": [
      "============================================================\n",
      "|BEM VINDO A LOJA BARATA KKK|\n",
      "============================================================\n",
      "gggg\n"
     ]
    }
   ],
   "source": [
    "print('=='*30)\n",
    "print('|BEM VINDO A LOJA BARATA KKK|')\n",
    "print('=='*30)\n",
    "\n",
    "while True:\n",
    "    p = input('Nome do produto = ')\n",
    "    v = int(input('Preço = '))\n",
    "    p = input('Nome do produto = ')-\n",
    "\n",
    "    break\n",
    "print(p)    \n"
   ]
  }
 ],
 "metadata": {
  "kernelspec": {
   "display_name": "Python 3",
   "language": "python",
   "name": "python3"
  },
  "language_info": {
   "codemirror_mode": {
    "name": "ipython",
    "version": 3
   },
   "file_extension": ".py",
   "mimetype": "text/x-python",
   "name": "python",
   "nbconvert_exporter": "python",
   "pygments_lexer": "ipython3",
   "version": "3.12.7"
  }
 },
 "nbformat": 4,
 "nbformat_minor": 2
}
