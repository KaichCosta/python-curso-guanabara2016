{
 "cells": [
  {
   "cell_type": "markdown",
   "metadata": {},
   "source": [
    "DESAFIO 046"
   ]
  },
  {
   "cell_type": "code",
   "execution_count": 8,
   "metadata": {},
   "outputs": [
    {
     "name": "stdout",
     "output_type": "stream",
     "text": [
      "Contagem pros fogos de artifício\n",
      "10\n",
      "9\n",
      "8\n",
      "7\n",
      "6\n",
      "5\n",
      "4\n",
      "3\n",
      "2\n",
      "1\n",
      "BOOMM\n"
     ]
    }
   ],
   "source": [
    "import time\n",
    "print('Contagem pros fogos de artifício')\n",
    "for n in range(10, 0, -1):\n",
    "    print(n)\n",
    "    time.sleep(1)\n",
    "print('BOOMM')    "
   ]
  },
  {
   "cell_type": "markdown",
   "metadata": {},
   "source": [
    "DESAFI0 047"
   ]
  },
  {
   "cell_type": "code",
   "execution_count": 12,
   "metadata": {},
   "outputs": [
    {
     "name": "stdout",
     "output_type": "stream",
     "text": [
      "Contagem dos números pares de 1 até 50\n",
      "0\n",
      "2\n",
      "4\n",
      "6\n",
      "8\n",
      "10\n",
      "12\n",
      "14\n",
      "16\n",
      "18\n",
      "20\n",
      "22\n",
      "24\n",
      "26\n",
      "28\n",
      "30\n",
      "32\n",
      "34\n",
      "36\n",
      "38\n",
      "40\n",
      "42\n",
      "44\n",
      "46\n",
      "48\n",
      "50\n",
      "FIM\n"
     ]
    }
   ],
   "source": [
    "print('Contagem dos números pares de 1 até 50')\n",
    "for n in range(0, 51, 2):\n",
    "    print(n)\n",
    "print('FIM')"
   ]
  },
  {
   "cell_type": "markdown",
   "metadata": {},
   "source": [
    "DESAFIO 048"
   ]
  },
  {
   "cell_type": "code",
   "execution_count": 39,
   "metadata": {},
   "outputs": [
    {
     "name": "stdout",
     "output_type": "stream",
     "text": [
      "Soma dos números Ímpares de 1 até 300\n",
      "A soma foi igual a 20667\n",
      "FIM\n"
     ]
    }
   ],
   "source": [
    "print('Soma dos números Ímpares de 1 até 300')\n",
    "soma = 0\n",
    "for n in range(1, 500, 2):\n",
    "\n",
    "    if n % 3 == 0:\n",
    "        soma += n \n",
    "\n",
    "print(f'A soma foi igual a {soma}')            \n",
    "print('FIM')"
   ]
  },
  {
   "cell_type": "markdown",
   "metadata": {},
   "source": [
    "DESAFIO 049"
   ]
  },
  {
   "cell_type": "code",
   "execution_count": 56,
   "metadata": {},
   "outputs": [
    {
     "name": "stdout",
     "output_type": "stream",
     "text": [
      "|2222| x | 0| = |    0|\n",
      "|2222| x | 1| = | 2222|\n",
      "|2222| x | 2| = | 4444|\n",
      "|2222| x | 3| = | 6666|\n",
      "|2222| x | 4| = | 8888|\n",
      "|2222| x | 5| = |11110|\n",
      "|2222| x | 6| = |13332|\n",
      "|2222| x | 7| = |15554|\n",
      "|2222| x | 8| = |17776|\n",
      "|2222| x | 9| = |19998|\n",
      "|2222| x |10| = |22220|\n",
      "fim\n"
     ]
    }
   ],
   "source": [
    "n = int(input('Digite um número que você quer descobrir a tabuada'))\n",
    "tab = 0\n",
    "\n",
    "for tab in range(0, 11):\n",
    "\n",
    "    igual =  n * tab\n",
    "    if n > 1000 :\n",
    "    \n",
    "        print(f'|{n}| x |{tab:2}| = |{igual:5}|')\n",
    "    else:    \n",
    "        if n > 100 :    \n",
    "            print(f'|{n}| x |{tab:2}| = |{igual:4}|')\n",
    "        else:\n",
    "            print(f'|{n}| x |{tab:2}| = |{igual:2}|')\n",
    "print('fim')"
   ]
  }
 ],
 "metadata": {
  "kernelspec": {
   "display_name": "Python 3",
   "language": "python",
   "name": "python3"
  },
  "language_info": {
   "codemirror_mode": {
    "name": "ipython",
    "version": 3
   },
   "file_extension": ".py",
   "mimetype": "text/x-python",
   "name": "python",
   "nbconvert_exporter": "python",
   "pygments_lexer": "ipython3",
   "version": "3.12.7"
  }
 },
 "nbformat": 4,
 "nbformat_minor": 2
}
