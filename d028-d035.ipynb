{
 "cells": [
  {
   "cell_type": "markdown",
   "metadata": {},
   "source": [
    "DESAFIO 28)Fazer o computador escolher um número entre 1 e 5 e o usuário(EU) deve tentar adivinhar"
   ]
  },
  {
   "cell_type": "code",
   "execution_count": 10,
   "metadata": {},
   "outputs": [
    {
     "name": "stdout",
     "output_type": "stream",
     "text": [
      "Digite um número inteiro por favor\n"
     ]
    }
   ],
   "source": [
    "from random import randint\n",
    "maquina = randint(0,5)\n",
    "try: \n",
    "\n",
    "#==================================      \n",
    "    tentativa = int(input('Tente adivinhar o número que estou pensando de 1 a 5 = '))\n",
    "    print('Tente adivinhar o número que estou pensando de 1 a 5 = ')\n",
    "    if tentativa==maquina:\n",
    "        print('Parabéns, você acertou o número')\n",
    "    else:\n",
    "        print('Errou! Eu pensei em {}Tente novamente'.format(maquina))\n",
    "    print('---FIM---') \n",
    "except:ValueError \n",
    "print('Digite um número inteiro por favor') "
   ]
  },
  {
   "cell_type": "markdown",
   "metadata": {},
   "source": [
    "DESAFIO 029"
   ]
  },
  {
   "cell_type": "code",
   "execution_count": 2,
   "metadata": {},
   "outputs": [
    {
     "name": "stdout",
     "output_type": "stream",
     "text": [
      "Limite de velocidade permitido |50km|\n"
     ]
    },
    {
     "ename": "ValueError",
     "evalue": "invalid literal for int() with base 10: ''",
     "output_type": "error",
     "traceback": [
      "\u001b[1;31m---------------------------------------------------------------------------\u001b[0m",
      "\u001b[1;31mValueError\u001b[0m                                Traceback (most recent call last)",
      "Cell \u001b[1;32mIn[2], line 2\u001b[0m\n\u001b[0;32m      1\u001b[0m \u001b[38;5;28mprint\u001b[39m(\u001b[38;5;124m'\u001b[39m\u001b[38;5;124mLimite de velocidade permitido |50km|\u001b[39m\u001b[38;5;124m'\u001b[39m)\n\u001b[1;32m----> 2\u001b[0m v\u001b[38;5;241m=\u001b[39m\u001b[38;5;28;43mint\u001b[39;49m\u001b[43m(\u001b[49m\u001b[38;5;28;43minput\u001b[39;49m\u001b[43m(\u001b[49m\u001b[38;5;124;43m'\u001b[39;49m\u001b[38;5;124;43m===VELOCÍMETRO===\u001b[39;49m\u001b[38;5;124;43m'\u001b[39;49m\u001b[43m)\u001b[49m\u001b[43m)\u001b[49m\n\u001b[0;32m      3\u001b[0m \u001b[38;5;28;01mif\u001b[39;00m v \u001b[38;5;241m<\u001b[39m\u001b[38;5;241m=\u001b[39m \u001b[38;5;241m50\u001b[39m:\n\u001b[0;32m      4\u001b[0m     \u001b[38;5;28mprint\u001b[39m(\u001b[38;5;124m'\u001b[39m\u001b[38;5;124mVc está no limite de velocidade\u001b[39m\u001b[38;5;124m'\u001b[39m)\n",
      "\u001b[1;31mValueError\u001b[0m: invalid literal for int() with base 10: ''"
     ]
    },
    {
     "ename": "",
     "evalue": "",
     "output_type": "error",
     "traceback": [
      "\u001b[1;31mO Kernel deu pane ao executar o código na célula atual ou em uma célula anterior. \n",
      "\u001b[1;31mAnalise o código nas células para identificar uma possível causa da pane. \n",
      "\u001b[1;31mClique <a href='https://aka.ms/vscodeJupyterKernelCrash'>aqui</a> para obter mais informações. \n",
      "\u001b[1;31mConsulte Jupyter <a href='command:jupyter.viewOutput'>log</a> para obter mais detalhes."
     ]
    }
   ],
   "source": [
    "print('Limite de velocidade permitido |50km|')\n",
    "v=int(input('===VELOCÍMETRO==='))\n",
    "if v <= 50:\n",
    "    print('Vc está no limite de velocidade')\n",
    "else:\n",
    "    kmmaior = v-50\n",
    "    multa = kmmaior * 7\n",
    "    print('Vc passou {}km acima do limite, sua multa foi de R${},00'.format(kmmaior,multa))   \n"
   ]
  },
  {
   "cell_type": "markdown",
   "metadata": {},
   "source": [
    "DESAFIO 030"
   ]
  },
  {
   "cell_type": "code",
   "execution_count": 1,
   "metadata": {},
   "outputs": [
    {
     "name": "stdout",
     "output_type": "stream",
     "text": [
      "Esse número é par\n"
     ]
    }
   ],
   "source": [
    "n=float(input('ESCOLHA UM NÚMERO = '))\n",
    "if  n%2 == 0:\n",
    "    print('Esse número é par')\n",
    "else:\n",
    "    print('Esse número é ímpar')"
   ]
  },
  {
   "cell_type": "markdown",
   "metadata": {},
   "source": [
    "DESAFIO 031"
   ]
  },
  {
   "cell_type": "code",
   "execution_count": null,
   "metadata": {},
   "outputs": [],
   "source": [
    "print('MARQUE SUA VIAGEM')\n",
    "print('Quantos km vc viajará até seu destino?')\n",
    "km=float(input('Resposta= '))\n",
    "if km <= 200:\n",
    "    tot1= km*0.50\n",
    "    print('Vc pagará R${}'.format(tot1))\n",
    "else:\n",
    "    km > 200\n",
    "    tot2= km * 0.45\n",
    "    print('Sua viagem é longa então Vc terá um desconto e pagará R${} pela viagem'.format(tot2))"
   ]
  },
  {
   "cell_type": "markdown",
   "metadata": {},
   "source": [
    "DESAFIO 032"
   ]
  },
  {
   "cell_type": "code",
   "execution_count": null,
   "metadata": {},
   "outputs": [],
   "source": [
    "ano=int(input('QUAL ANO VC QUER SABER SE É BISSEXTO? = '))\n",
    "if ano % 4 == 0:\n",
    "    ano % 100  != 0\n",
    "    ano % 400 ==0\n",
    "    print('O ano de {} é bissexto'.format(ano))\n",
    "else:\n",
    "    ano % 4 != 0\n",
    "    print('O ano de {} não é bissexto'.format(ano))    \n"
   ]
  },
  {
   "cell_type": "markdown",
   "metadata": {},
   "source": [
    "DESAFIO 033"
   ]
  },
  {
   "cell_type": "code",
   "execution_count": null,
   "metadata": {},
   "outputs": [],
   "source": [
    "print('Escolha 3 números')\n",
    "n1=int(input('Número 1 = '))\n",
    "n2=int(input('Número 2 = '))\n",
    "n3=int(input('Número 3 = '))\n",
    "maior= n1\n",
    "menor= n1\n",
    "if n2 > n1 and n2 > n3:\n",
    "    maior = n2\n",
    "if n3 > n1 and n3 > n2:\n",
    "    maior = n3\n",
    "if n2 < n1 and n2 < n3:\n",
    "    menor = n2      \n",
    "if n3 < n1 and n3 < n2:\n",
    "    menor  = n3\n",
    "print('O maior é {} e o menor é {}'.format(maior, menor))\n",
    "\n"
   ]
  },
  {
   "cell_type": "markdown",
   "metadata": {},
   "source": [
    "DESAFIO 034"
   ]
  },
  {
   "cell_type": "code",
   "execution_count": null,
   "metadata": {},
   "outputs": [],
   "source": [
    "salario=float(input('Qual o seu salário atual? = '))\n",
    "if salario <=1500:\n",
    "    salario = salario * 1.15\n",
    "else:\n",
    "    salario = salario * 1.10\n",
    "print('Seu novo salário é de R${:.2f}'.format(salario)) \n"
   ]
  },
  {
   "cell_type": "markdown",
   "metadata": {},
   "source": [
    "DESAFIO 035"
   ]
  },
  {
   "cell_type": "code",
   "execution_count": null,
   "metadata": {},
   "outputs": [],
   "source": [
    "print('Escolha 3 valor pra definirmos se pode ser formado um triângulo')\n",
    "v1=int(input('Valor 1 = '))\n",
    "v2=int(input('Valor 2 = '))\n",
    "v3=int(input('Valor 3 = '))\n",
    "if v1 < v2 + v3 and v2 < v1 + v3 and v3 < v1 + v2:\n",
    "    print('É possível formar um triângulo')\n",
    "else:\n",
    "    print('Não é possível formar um triângulo')   "
   ]
  }
 ],
 "metadata": {
  "kernelspec": {
   "display_name": "Python 3",
   "language": "python",
   "name": "python3"
  },
  "language_info": {
   "codemirror_mode": {
    "name": "ipython",
    "version": 3
   },
   "file_extension": ".py",
   "mimetype": "text/x-python",
   "name": "python",
   "nbconvert_exporter": "python",
   "pygments_lexer": "ipython3",
   "version": "3.12.undefined"
  }
 },
 "nbformat": 4,
 "nbformat_minor": 2
}
