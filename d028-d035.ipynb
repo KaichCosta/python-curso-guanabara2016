{
 "cells": [
  {
   "cell_type": "markdown",
   "metadata": {},
   "source": [
    "DESAFIO 28)Fazer o computador escolher um número entre 1 e 5 e o usuário(EU) deve tentar adivinhar"
   ]
  },
  {
   "cell_type": "code",
   "execution_count": 10,
   "metadata": {},
   "outputs": [
    {
     "name": "stdout",
     "output_type": "stream",
     "text": [
      "Digite um número inteiro por favor\n"
     ]
    }
   ],
   "source": [
    "try:\n",
    "\n",
    "    correto=4\n",
    "#==================================\n",
    "    tentativa = int(input('Tente adivinhar o número que estou pensando de 1 a 5 = '))\n",
    "    if tentativa==correto:\n",
    "        print('Parabéns, você acertou o número')\n",
    "    else:\n",
    "        print('Errou! Tente novamente')\n",
    "    print('---FIM---') \n",
    "except:ValueError \n",
    "print('Digite um número inteiro por favor') "
   ]
  },
  {
   "cell_type": "markdown",
   "metadata": {},
   "source": []
  }
 ],
 "metadata": {
  "kernelspec": {
   "display_name": "Python 3",
   "language": "python",
   "name": "python3"
  },
  "language_info": {
   "codemirror_mode": {
    "name": "ipython",
    "version": 3
   },
   "file_extension": ".py",
   "mimetype": "text/x-python",
   "name": "python",
   "nbconvert_exporter": "python",
   "pygments_lexer": "ipython3",
   "version": "3.12.6"
  }
 },
 "nbformat": 4,
 "nbformat_minor": 2
}
