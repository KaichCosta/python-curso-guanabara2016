{
 "cells": [
  {
   "cell_type": "markdown",
   "metadata": {},
   "source": [
    "DESAFIO 057"
   ]
  },
  {
   "cell_type": "code",
   "execution_count": 1,
   "metadata": {},
   "outputs": [
    {
     "name": "stdout",
     "output_type": "stream",
     "text": [
      "============================================================\n",
      "|DIGITE UM SEXO, APENAS [M] OU [F] SERÃO ACEITAS|\n",
      "============================================================\n",
      "Dados Inválidos!\n",
      "Dados Inválidos!\n",
      "Dados Inválidos!\n",
      "Dados Inválidos!\n",
      "Sexo M Validado\n"
     ]
    }
   ],
   "source": [
    "print('=='*30)\n",
    "print('|DIGITE UM SEXO, APENAS [M] OU [F] SERÃO ACEITAS|')\n",
    "print('=='*30)\n",
    "s = 'A'\n",
    "while s != 'M' !='F' :\n",
    "    s= str(input('ESCOLHA O SEXO = ')).upper()\n",
    "    print('Dados Inválidos!')\n",
    "print(f'Sexo {s} Validado')    "
   ]
  },
  {
   "cell_type": "markdown",
   "metadata": {},
   "source": [
    "DESAFIO 058"
   ]
  },
  {
   "cell_type": "code",
   "execution_count": null,
   "metadata": {},
   "outputs": [
    {
     "name": "stdout",
     "output_type": "stream",
     "text": [
      "============================================================\n",
      "|DIGITE UM NÚMERO DE 1 A 10 PRA MÁQUINA TENTAR ADIVINHAR|\n",
      "============================================================\n",
      "3\n",
      "Que Azar, a Máquina escolheu outro número, tente novamente\n",
      "4\n",
      "ACERTOU, AEEEE!!!, a Máquina escolheu [4] \n",
      "fim\n"
     ]
    }
   ],
   "source": [
    "from random import randint\n",
    "maquina = randint(0, 10)\n",
    "print('=='*30)\n",
    "print('|DIGITE UM NÚMERO DE 1 A 10 PRA MÁQUINA TENTAR ADIVINHAR|')\n",
    "print('=='*30)\n",
    "n = 11\n",
    "while n != maquina:\n",
    "    n = int(input('QUAL SEU PALPITE? = '))\n",
    "    print(n)\n",
    "    if n == maquina:\n",
    "        print(f'ACERTOU, AEEEE!!!, a Máquina escolheu [{maquina}] ')\n",
    "\n",
    "    else:\n",
    "        print(f'Que Azar, a Máquina escolheu outro número, tente novamente')\n"
   ]
  },
  {
   "cell_type": "markdown",
   "metadata": {},
   "source": [
    "DESAFIO 060"
   ]
  },
  {
   "cell_type": "code",
   "execution_count": 14,
   "metadata": {},
   "outputs": [
    {
     "name": "stdout",
     "output_type": "stream",
     "text": [
      "4 x 3 x 2 x 1 = 24\n"
     ]
    }
   ],
   "source": [
    "\n",
    "n = int(input('QUAL NÚMERO DEVO FATORAR? = '))\n",
    "cont = n\n",
    "f= 1\n",
    "while cont > 0:\n",
    "    print(cont, end='')\n",
    "    print(' x ' if cont > 1 else ' = ', end='')\n",
    "    f *= cont\n",
    "    cont -= 1\n",
    "print(f)\n"
   ]
  },
  {
   "cell_type": "markdown",
   "metadata": {},
   "source": [
    "DESAFIO 063"
   ]
  },
  {
   "cell_type": "code",
   "execution_count": 20,
   "metadata": {},
   "outputs": [
    {
     "name": "stdout",
     "output_type": "stream",
     "text": [
      "============================================================\n",
      "|DIGITE UM NÚMERO PARA DEFINIR A QUANTIDADE DE TERMOS DA SEQUENCIA DE FIBONACCI|\n",
      "============================================================\n",
      "0 - 1 - 1 - 2 - 3 - 5 - 8 - 13 - 21 - 34 - fim\n"
     ]
    }
   ],
   "source": [
    "\n",
    "print('=='*30)\n",
    "print('|DIGITE UM NÚMERO PARA DEFINIR A QUANTIDADE DE TERMOS DA SEQUENCIA DE FIBONACCI|')\n",
    "print('=='*30)\n",
    "n = int(input('QUAL NÚMERO? = '))\n",
    "n1 = 0\n",
    "n2 = 1\n",
    "print(f'{n1} - {n2} - ', end='')\n",
    "cont = 3\n",
    "while cont <= n :\n",
    "    n3 = n1 + n2\n",
    "    print(f'{n3} - ' , end='')\n",
    "    n1 = n2\n",
    "    n2 = n3\n",
    "    cont += 1\n",
    "print('fim')\n"
   ]
  },
  {
   "cell_type": "code",
   "execution_count": 29,
   "metadata": {},
   "outputs": [
    {
     "name": "stdout",
     "output_type": "stream",
     "text": [
      "1\n",
      "3\n",
      "5\n",
      "fim\n"
     ]
    }
   ],
   "source": [
    "n1 = 0\n",
    "n2 = 1\n",
    "x = 1\n",
    "n = int(input('QUAL NÚMERO? = '))\n",
    "while x <= n:\n",
    "    n3 = n1 + n2\n",
    "    print (n3)\n",
    "    x = x + 1\n",
    "    n1 = n1 + 1\n",
    "    n2 = n2 + 1\n",
    "print('fim')    \n",
    "\n"
   ]
  }
 ],
 "metadata": {
  "kernelspec": {
   "display_name": "Python 3",
   "language": "python",
   "name": "python3"
  },
  "language_info": {
   "codemirror_mode": {
    "name": "ipython",
    "version": 3
   },
   "file_extension": ".py",
   "mimetype": "text/x-python",
   "name": "python",
   "nbconvert_exporter": "python",
   "pygments_lexer": "ipython3",
   "version": "3.12.7"
  }
 },
 "nbformat": 4,
 "nbformat_minor": 2
}
