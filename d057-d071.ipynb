{
 "cells": [
  {
   "cell_type": "markdown",
   "metadata": {},
   "source": [
    "DESAFIO 057"
   ]
  },
  {
   "cell_type": "code",
   "execution_count": null,
   "metadata": {},
   "outputs": [
    {
     "name": "stdout",
     "output_type": "stream",
     "text": [
      "============================================================\n",
      "|DIGITE UM SEXO, APENAS [M] OU [F]|\n",
      "============================================================\n",
      "H\n",
      "G\n",
      "M\n",
      "fim\n"
     ]
    }
   ],
   "source": [
    "print('=='*30)\n",
    "print('|DIGITE UM SEXO, APENAS [M] OU [F] SERÃO ACEITAS|')\n",
    "print('=='*30)\n",
    "s = 'A'\n",
    "while s != 'M' !='F' :\n",
    "    s= str(input('ESCOLHA O SEXO = ')).upper()\n",
    "    print(s)\n",
    "print('fim')    "
   ]
  },
  {
   "cell_type": "markdown",
   "metadata": {},
   "source": [
    "DESAFIO 058"
   ]
  },
  {
   "cell_type": "code",
   "execution_count": null,
   "metadata": {},
   "outputs": [
    {
     "name": "stdout",
     "output_type": "stream",
     "text": [
      "============================================================\n",
      "|DIGITE UM NÚMERO DE 1 A 10 PRA MÁQUINA TENTAR ADIVINHAR|\n",
      "============================================================\n",
      "1\n",
      "ACERTOU, AEEEE!!!, a Máquina escolheu [1] tente novamente\n",
      "fim\n"
     ]
    }
   ],
   "source": [
    "from random import randint\n",
    "maquina = randint(0, 10)\n",
    "print('=='*30)\n",
    "print('|DIGITE UM NÚMERO DE 1 A 10 PRA MÁQUINA TENTAR ADIVINHAR|')\n",
    "print('=='*30)\n",
    "n = 11\n",
    "while n != maquina:\n",
    "    n = int(input('QUAL SEU PALPITE? = '))\n",
    "    print(n)\n",
    "    if n == maquina:\n",
    "        print(f'ACERTOU, AEEEE!!!, a Máquina escolheu [{maquina}] ')\n",
    "\n",
    "    else:\n",
    "        print(f'Que Azar, a Máquina escolheu [{maquina}] tente novamente')\n",
    "\n",
    "        maquina = randint(0, 10)\n",
    "print('fim')    "
   ]
  },
  {
   "cell_type": "markdown",
   "metadata": {},
   "source": [
    "DESAFIO 060"
   ]
  },
  {
   "cell_type": "code",
   "execution_count": 19,
   "metadata": {},
   "outputs": [
    {
     "name": "stdout",
     "output_type": "stream",
     "text": [
      "20\n",
      "12\n",
      "6\n",
      "2\n",
      "FIM\n"
     ]
    }
   ],
   "source": [
    "x= 1\n",
    "n = int(input('QUAL NÚMERO DEVO FATORAR? = '))\n",
    "while n > x:\n",
    "    f = n - 1\n",
    "    m = n * f  \n",
    "    if n >= f:\n",
    "        n = n - 1\n",
    "    print(m)\n",
    "print('FIM')\n"
   ]
  },
  {
   "cell_type": "markdown",
   "metadata": {},
   "source": [
    "DESAFIO 063"
   ]
  },
  {
   "cell_type": "code",
   "execution_count": 28,
   "metadata": {},
   "outputs": [
    {
     "name": "stdout",
     "output_type": "stream",
     "text": [
      "============================================================\n",
      "|DIGITE UM NÚMERO PARA DEFINIR A QUANTIDADE DE TERMOS DA SEQUENCIA DE FIBONACCI|\n"
     ]
    },
    {
     "ename": "KeyboardInterrupt",
     "evalue": "",
     "output_type": "error",
     "traceback": [
      "\u001b[1;31m---------------------------------------------------------------------------\u001b[0m",
      "\u001b[1;31mKeyboardInterrupt\u001b[0m                         Traceback (most recent call last)",
      "Cell \u001b[1;32mIn[28], line 7\u001b[0m\n\u001b[0;32m      5\u001b[0m \u001b[38;5;28mprint\u001b[39m(\u001b[38;5;124m'\u001b[39m\u001b[38;5;124m|DIGITE UM NÚMERO PARA DEFINIR A QUANTIDADE DE TERMOS DA SEQUENCIA DE FIBONACCI|\u001b[39m\u001b[38;5;124m'\u001b[39m)\n\u001b[0;32m      6\u001b[0m n \u001b[38;5;241m=\u001b[39m \u001b[38;5;28mint\u001b[39m(\u001b[38;5;28minput\u001b[39m(\u001b[38;5;124m'\u001b[39m\u001b[38;5;124mQUAL NÚMERO? = \u001b[39m\u001b[38;5;124m'\u001b[39m))\n\u001b[1;32m----> 7\u001b[0m \u001b[38;5;28;01mwhile\u001b[39;00m x \u001b[38;5;241m<\u001b[39m\u001b[38;5;241m=\u001b[39m n :\n\u001b[0;32m      8\u001b[0m     n3 \u001b[38;5;241m=\u001b[39m n1 \u001b[38;5;241m+\u001b[39m n2\n\u001b[0;32m      9\u001b[0m     loop \u001b[38;5;241m=\u001b[39m n3\n",
      "\u001b[1;31mKeyboardInterrupt\u001b[0m: "
     ]
    }
   ],
   "source": [
    "n1 = 0\n",
    "n2 = 1\n",
    "x = 1\n",
    "print('=='*30)\n",
    "print('|DIGITE UM NÚMERO PARA DEFINIR A QUANTIDADE DE TERMOS DA SEQUENCIA DE FIBONACCI|')\n",
    "n = int(input('QUAL NÚMERO? = '))\n",
    "while x <= n :\n",
    "    n3 = n1 + n2\n",
    "    loop = n3\n",
    "\n",
    "    n1 = n2 + n3\n",
    "    loop = n1\n",
    "    \n",
    "    n2 = n3 + n1\n",
    "    loop = n2\n",
    "    x =+1\n",
    "print(n3, n1, n2)"
   ]
  },
  {
   "cell_type": "code",
   "execution_count": 29,
   "metadata": {},
   "outputs": [
    {
     "name": "stdout",
     "output_type": "stream",
     "text": [
      "1\n",
      "3\n",
      "5\n",
      "fim\n"
     ]
    }
   ],
   "source": [
    "n1 = 0\n",
    "n2 = 1\n",
    "x = 1\n",
    "n = int(input('QUAL NÚMERO? = '))\n",
    "while x <= n:\n",
    "    n3 = n1 + n2\n",
    "    print (n3)\n",
    "    x = x + 1\n",
    "    n1 = n1 + 1\n",
    "    n2 = n2 + 1\n",
    "print('fim')    \n",
    "\n"
   ]
  }
 ],
 "metadata": {
  "kernelspec": {
   "display_name": "Python 3",
   "language": "python",
   "name": "python3"
  },
  "language_info": {
   "codemirror_mode": {
    "name": "ipython",
    "version": 3
   },
   "file_extension": ".py",
   "mimetype": "text/x-python",
   "name": "python",
   "nbconvert_exporter": "python",
   "pygments_lexer": "ipython3",
   "version": "3.12.7"
  }
 },
 "nbformat": 4,
 "nbformat_minor": 2
}
